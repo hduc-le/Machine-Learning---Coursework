{
 "cells": [
  {
   "cell_type": "code",
   "execution_count": 1,
   "metadata": {
    "id": "6jhf9bSN2-v5"
   },
   "outputs": [],
   "source": [
    "import numpy as np\n",
    "import pandas as pd\n",
    "from sklearn.model_selection import train_test_split\n",
    "from scipy.spatial import distance\n",
    "from sklearn.cluster import KMeans\n",
    "import random\n",
    "import matplotlib.pyplot as plt\n"
   ]
  },
  {
   "cell_type": "code",
   "execution_count": 2,
   "metadata": {
    "colab": {
     "base_uri": "https://localhost:8080/",
     "height": 357
    },
    "id": "vJrVgdtj3gMs",
    "outputId": "aae0da0c-bcd5-4e20-e89e-baf8c28833da"
   },
   "outputs": [
    {
     "name": "stdout",
     "output_type": "stream",
     "text": [
      "<class 'pandas.core.frame.DataFrame'>\n",
      "RangeIndex: 1500 entries, 0 to 1499\n",
      "Data columns (total 2 columns):\n",
      " #   Column  Non-Null Count  Dtype  \n",
      "---  ------  --------------  -----  \n",
      " 0   x1      1500 non-null   float64\n",
      " 1   x2      1500 non-null   float64\n",
      "dtypes: float64(2)\n",
      "memory usage: 23.6 KB\n"
     ]
    },
    {
     "data": {
      "text/html": [
       "<div>\n",
       "<style scoped>\n",
       "    .dataframe tbody tr th:only-of-type {\n",
       "        vertical-align: middle;\n",
       "    }\n",
       "\n",
       "    .dataframe tbody tr th {\n",
       "        vertical-align: top;\n",
       "    }\n",
       "\n",
       "    .dataframe thead th {\n",
       "        text-align: right;\n",
       "    }\n",
       "</style>\n",
       "<table border=\"1\" class=\"dataframe\">\n",
       "  <thead>\n",
       "    <tr style=\"text-align: right;\">\n",
       "      <th></th>\n",
       "      <th>x1</th>\n",
       "      <th>x2</th>\n",
       "    </tr>\n",
       "  </thead>\n",
       "  <tbody>\n",
       "    <tr>\n",
       "      <th>0</th>\n",
       "      <td>-6.111197</td>\n",
       "      <td>1.471531</td>\n",
       "    </tr>\n",
       "    <tr>\n",
       "      <th>1</th>\n",
       "      <td>-7.496654</td>\n",
       "      <td>0.913425</td>\n",
       "    </tr>\n",
       "    <tr>\n",
       "      <th>2</th>\n",
       "      <td>-10.844898</td>\n",
       "      <td>-7.553523</td>\n",
       "    </tr>\n",
       "    <tr>\n",
       "      <th>3</th>\n",
       "      <td>-4.543377</td>\n",
       "      <td>-2.135686</td>\n",
       "    </tr>\n",
       "    <tr>\n",
       "      <th>4</th>\n",
       "      <td>-1.913821</td>\n",
       "      <td>-0.034780</td>\n",
       "    </tr>\n",
       "  </tbody>\n",
       "</table>\n",
       "</div>"
      ],
      "text/plain": [
       "          x1        x2\n",
       "0  -6.111197  1.471531\n",
       "1  -7.496654  0.913425\n",
       "2 -10.844898 -7.553523\n",
       "3  -4.543377 -2.135686\n",
       "4  -1.913821 -0.034780"
      ]
     },
     "execution_count": 2,
     "metadata": {
      "tags": []
     },
     "output_type": "execute_result"
    }
   ],
   "source": [
    "df = pd.read_csv('https://raw.githubusercontent.com/huynhthanh98/ML/master/lab-05/data_1.csv')\n",
    "df.info()\n",
    "df.head()"
   ]
  },
  {
   "cell_type": "code",
   "execution_count": 3,
   "metadata": {
    "colab": {
     "base_uri": "https://localhost:8080/"
    },
    "id": "3Nuah_7yG0vN",
    "outputId": "1ab30ff1-ff4e-4843-97fa-aaf1b21285a9"
   },
   "outputs": [
    {
     "data": {
      "text/plain": [
       "(1500, 2)"
      ]
     },
     "execution_count": 3,
     "metadata": {
      "tags": []
     },
     "output_type": "execute_result"
    }
   ],
   "source": [
    "X = df.to_numpy()\n",
    "X.shape"
   ]
  },
  {
   "cell_type": "code",
   "execution_count": 4,
   "metadata": {
    "id": "ZAMD1-hK3nzw"
   },
   "outputs": [],
   "source": [
    "class KMeans_clustering:\n",
    "    pass\n",
    "    '''\n",
    "        An instance of K-Means clustering algorithm\n",
    "    '''\n",
    "    def __init__(self, n_clusters=8):\n",
    "        pass\n",
    "        '''\n",
    "            n_clusters: number of clusters\n",
    "            _centroids: center/ centroid of clusters\n",
    "            inertia_: sum of squared distances of samples to their closest cluster center\n",
    "            labels_: labels of input samples\n",
    "            X: input data\n",
    "        '''\n",
    "        self.n_clusters = n_clusters\n",
    "        self._centroids = []\n",
    "        self.inertia_ = 0\n",
    "        self.labels_ = []\n",
    "        self.X = []\n",
    "    def fit(self, X):\n",
    "        if type(X) != np.ndarray:\n",
    "            X = X.to_numpy()\n",
    "        N, p = X.shape\n",
    "        self.X = X\n",
    "        # random.seed(42)\n",
    "        k_indices = random.sample(range(0,N),self.n_clusters)\n",
    "        self._centroids = self.X[k_indices] # random K-samples to be centroids\n",
    "        pre_clusters = np.zeros((N,1))\n",
    "        it = 0\n",
    "        while True:\n",
    "            pass\n",
    "            it+=1\n",
    "\n",
    "            distances = self._calc_dists(self.X, self._centroids)\n",
    "            self.labels_ = self._iden_cluster(distances) # assign new labels \n",
    "\n",
    "            if self._has_convert(pre_labels=pre_clusters, cur_labels=self.labels_):\n",
    "                break\n",
    "\n",
    "            pre_clusters = self.labels_\n",
    "            self._update_centroids(self.X, self.labels_)\n",
    "\n",
    "        self.inertia_ = self._calc_total_WCV(self.X, self.labels_, self._centroids)\n",
    "\n",
    "        print('Complete training process in {} iterations'.format(it))\n",
    "    def _calc_dists(self, X, centroids):\n",
    "        '''\n",
    "            Calculate and choose minimum distances of the samples to the centroids\n",
    "            ----------------------------------\n",
    "            --| centroid_1 | centroid_2 | centroid_3 | ... | centroid_K \n",
    "            -----------------------------------------------------------\n",
    "            x1|     d11    |     d12    |     d13    | ... |    d1k   |\n",
    "            -----------------------------------------------------------\n",
    "            x2|     d21    |     d22    |     d23    | ... |    d2k   |\n",
    "            -----------------------------------------------------------\n",
    "            .\n",
    "            .\n",
    "            .\n",
    "            -----------------------------------------------------------\n",
    "            xn|     dn1    |     dn2    |     dn3    | ... |    dnk   |\n",
    "\n",
    "            -----------------------------------------------------------\n",
    "\n",
    "            Params:\n",
    "                @x: array-like\n",
    "                    Input data\n",
    "                @centroids: array-like\n",
    "                    K centroids as array\n",
    "            -----------------------------------------------------------\n",
    "            Return: array-like\n",
    "                The distances from samples to the centroids\n",
    "        '''\n",
    "        return distance.cdist(X, centroids, 'euclidean')\n",
    "    def _iden_cluster(self, distances):\n",
    "        '''\n",
    "            Find the cluster to which each sample belongs\n",
    "            ---------------------------------------------\n",
    "            Params:\n",
    "                @distances: array-like\n",
    "                    Distances from samples to the centroids\n",
    "            ---------------------------------------------\n",
    "            Return: \n",
    "                @array-like (typically 1d-array)\n",
    "                The cluster indices to which samples belong\n",
    "        '''\n",
    "        return np.argmin(distances,axis=1)\n",
    "\n",
    "    def _update_centroids(self, X, labels):\n",
    "        '''\n",
    "            Update the centroids following new labels\n",
    "        '''\n",
    "        mean = np.array([X[labels == k].mean(axis=0) for k in range(self.n_clusters)])\n",
    "        self._centroids = mean\n",
    "\n",
    "    def _calc_total_WCV(self, X, labels, centroids):\n",
    "        '''\n",
    "            Calculate the total sum of squared distances of samples to their closted cluster centroid\n",
    "            ----------------------\n",
    "            Params: \n",
    "                @X: array-like\n",
    "                    Input data\n",
    "                @labels: array-like\n",
    "                    Labels of samples\n",
    "                @centroids: array-like\n",
    "                    Centroids of clusters\n",
    "            ----------------------\n",
    "            Return: float\n",
    "                the total sum of squared distances\n",
    "        '''\n",
    "        pass \n",
    "        WCVs = [np.sum(np.linalg.norm(X[labels == k] - centroids[k],axis=1)**2) for k in range(self.n_clusters)]\n",
    "        return np.sum(WCVs)\n",
    "    \n",
    "    def _has_convert(self, pre_labels, cur_labels):\n",
    "        pass\n",
    "        '''\n",
    "            Verify the algorithm has convert, i.e: the curent label of samples do not differ from before\n",
    "            ------------------\n",
    "            Params:\n",
    "                @pre_labels: array-like (ordinarily, should be 1D vector)\n",
    "                    Previous labels \n",
    "                @cur_labels: array-like (ordinarily, should be 1D vector)\n",
    "                    Curent labels\n",
    "            -----------------\n",
    "            Return: bool\n",
    "                True for all elements in two vector are equal.\n",
    "        '''\n",
    "        return (pre_labels == cur_labels).all()\n",
    "\n",
    "    def _predict(self, X_test):\n",
    "        '''\n",
    "            Assign labels for unseen data.\n",
    "            ----------------\n",
    "            Params: \n",
    "                @X_test: array-like\n",
    "                    Data test\n",
    "            ----------------\n",
    "            Return: array-like\n",
    "                Labels of samples \n",
    "        '''\n",
    "        pass\n",
    "        distances_test = self._calc_dists(X_test, self._centroids)\n",
    "        test_labels = self._iden_cluster(distances_test)\n",
    "        return test_labels\n",
    "\n",
    "    def predict(self, X_test):\n",
    "        pass\n",
    "        if type(X_test) != np.ndarray:\n",
    "            X_test = X_test.to_numpy()\n",
    "        return self._predict(X_test)\n",
    "    def display(self, X, labels, ax):\n",
    "        '''\n",
    "            Visualize outcome\n",
    "            ----------------\n",
    "            Params:\n",
    "                @X: array-like\n",
    "                    Input data, Note: Dimension of samples must be less or equal to 2\n",
    "                @ax: array-like\n",
    "                    axis\n",
    "            Return: array-like\n",
    "                axis for plotting\n",
    "        '''\n",
    "        if self.X.shape[1] > 2:\n",
    "            return 'DIMENSION ERROR!!!'\n",
    "        for k in range(self.n_clusters):\n",
    "            color = list(np.random.choice(range(256), size=3)/255)\n",
    "            ax.scatter(X[labels == k,:][:,0], X[labels == k,:][:,1], color=color)\n",
    "            ax.scatter(self._centroids[k,0], self._centroids[k,1], c='r', marker='*',s=150)\n",
    "        ax.axis('equal')\n",
    "        return ax\n",
    "    "
   ]
  },
  {
   "cell_type": "code",
   "execution_count": 5,
   "metadata": {
    "id": "Xu3jU2wWQ0aD"
   },
   "outputs": [],
   "source": [
    "def elbow_method(n_clusters_arr, X):\n",
    "    pass\n",
    "    total_wcss = []\n",
    "    for k in n_clusters_arr:\n",
    "        kmeans_model = KMeans_clustering(n_clusters=k)\n",
    "        kmeans_model.fit(X)\n",
    "        total_wcss.append(kmeans_model.inertia_)\n",
    "\n",
    "    plt.figure(figsize=(12,7))\n",
    "    plt.plot(n_clusters_arr, total_wcss, marker='o', color='r')\n",
    "    plt.ylabel('Total WSS')\n",
    "    plt.xlabel('Number of cluster')\n",
    "    plt.show()"
   ]
  },
  {
   "cell_type": "code",
   "execution_count": 6,
   "metadata": {
    "colab": {
     "base_uri": "https://localhost:8080/",
     "height": 561
    },
    "id": "cS0mJLd0TVNj",
    "outputId": "3709502e-fa9c-42a6-8cf9-3dcc84d343c5"
   },
   "outputs": [
    {
     "name": "stdout",
     "output_type": "stream",
     "text": [
      "Complete training process in 12 iterations\n",
      "Complete training process in 10 iterations\n",
      "Complete training process in 16 iterations\n",
      "Complete training process in 26 iterations\n",
      "Complete training process in 30 iterations\n",
      "Complete training process in 28 iterations\n",
      "Complete training process in 35 iterations\n"
     ]
    },
    {
     "data": {
      "image/png": "[encoded data removed]",
      "text/plain": [
       "<Figure size 864x504 with 1 Axes>"
      ]
     },
     "metadata": {
      "needs_background": "light",
      "tags": []
     },
     "output_type": "display_data"
    }
   ],
   "source": [
    "# Elbow method for choosing number of cluster\n",
    "K_arr = [2, 3, 4, 5, 6, 7, 8]\n",
    "elbow_method(K_arr, X)"
   ]
  },
  {
   "cell_type": "code",
   "execution_count": 7,
   "metadata": {
    "colab": {
     "base_uri": "https://localhost:8080/"
    },
    "id": "gyie21FoTqwV",
    "outputId": "0bd8a961-3237-4340-f54a-c2a8e3f66bd1"
   },
   "outputs": [
    {
     "name": "stdout",
     "output_type": "stream",
     "text": [
      "Complete training process in 6 iterations\n",
      "5747.987366346275\n",
      "[1 1 0 ... 2 2 2]\n"
     ]
    }
   ],
   "source": [
    "# Model \n",
    "model1 = KMeans_clustering(n_clusters=3)\n",
    "model1.fit(X)\n",
    "print(model1.inertia_)\n",
    "print(model1.labels_)"
   ]
  },
  {
   "cell_type": "code",
   "execution_count": 8,
   "metadata": {
    "colab": {
     "base_uri": "https://localhost:8080/",
     "height": 428
    },
    "id": "BqcyMSovUH3z",
    "outputId": "d5991564-d81a-4e86-a934-f50c25e15457"
   },
   "outputs": [
    {
     "data": {
      "image/png": "[encoded data removed]",
      "text/plain": [
       "<Figure size 864x504 with 1 Axes>"
      ]
     },
     "metadata": {
      "needs_background": "light",
      "tags": []
     },
     "output_type": "display_data"
    }
   ],
   "source": [
    "# Plot outcome\n",
    "fig, ax = plt.subplots(1,1,figsize=(12,7))\n",
    "model1.display(X,model1.labels_,ax)\n",
    "plt.show()"
   ]
  },
  {
   "cell_type": "code",
   "execution_count": 9,
   "metadata": {
    "colab": {
     "base_uri": "https://localhost:8080/",
     "height": 408
    },
    "id": "Hc0-QHySILUa",
    "outputId": "5ab030c7-9aaf-434a-e8da-451548378455"
   },
   "outputs": [
    {
     "name": "stdout",
     "output_type": "stream",
     "text": [
      "<class 'pandas.core.frame.DataFrame'>\n",
      "RangeIndex: 200 entries, 0 to 199\n",
      "Data columns (total 5 columns):\n",
      " #   Column                  Non-Null Count  Dtype \n",
      "---  ------                  --------------  ----- \n",
      " 0   CustomerID              200 non-null    int64 \n",
      " 1   Genre                   200 non-null    object\n",
      " 2   Age                     200 non-null    int64 \n",
      " 3   Annual Income (k$)      200 non-null    int64 \n",
      " 4   Spending Score (1-100)  200 non-null    int64 \n",
      "dtypes: int64(4), object(1)\n",
      "memory usage: 7.9+ KB\n"
     ]
    },
    {
     "data": {
      "text/html": [
       "<div>\n",
       "<style scoped>\n",
       "    .dataframe tbody tr th:only-of-type {\n",
       "        vertical-align: middle;\n",
       "    }\n",
       "\n",
       "    .dataframe tbody tr th {\n",
       "        vertical-align: top;\n",
       "    }\n",
       "\n",
       "    .dataframe thead th {\n",
       "        text-align: right;\n",
       "    }\n",
       "</style>\n",
       "<table border=\"1\" class=\"dataframe\">\n",
       "  <thead>\n",
       "    <tr style=\"text-align: right;\">\n",
       "      <th></th>\n",
       "      <th>CustomerID</th>\n",
       "      <th>Genre</th>\n",
       "      <th>Age</th>\n",
       "      <th>Annual Income (k$)</th>\n",
       "      <th>Spending Score (1-100)</th>\n",
       "    </tr>\n",
       "  </thead>\n",
       "  <tbody>\n",
       "    <tr>\n",
       "      <th>0</th>\n",
       "      <td>1</td>\n",
       "      <td>Male</td>\n",
       "      <td>19</td>\n",
       "      <td>15</td>\n",
       "      <td>39</td>\n",
       "    </tr>\n",
       "    <tr>\n",
       "      <th>1</th>\n",
       "      <td>2</td>\n",
       "      <td>Male</td>\n",
       "      <td>21</td>\n",
       "      <td>15</td>\n",
       "      <td>81</td>\n",
       "    </tr>\n",
       "    <tr>\n",
       "      <th>2</th>\n",
       "      <td>3</td>\n",
       "      <td>Female</td>\n",
       "      <td>20</td>\n",
       "      <td>16</td>\n",
       "      <td>6</td>\n",
       "    </tr>\n",
       "    <tr>\n",
       "      <th>3</th>\n",
       "      <td>4</td>\n",
       "      <td>Female</td>\n",
       "      <td>23</td>\n",
       "      <td>16</td>\n",
       "      <td>77</td>\n",
       "    </tr>\n",
       "    <tr>\n",
       "      <th>4</th>\n",
       "      <td>5</td>\n",
       "      <td>Female</td>\n",
       "      <td>31</td>\n",
       "      <td>17</td>\n",
       "      <td>40</td>\n",
       "    </tr>\n",
       "  </tbody>\n",
       "</table>\n",
       "</div>"
      ],
      "text/plain": [
       "   CustomerID   Genre  Age  Annual Income (k$)  Spending Score (1-100)\n",
       "0           1    Male   19                  15                      39\n",
       "1           2    Male   21                  15                      81\n",
       "2           3  Female   20                  16                       6\n",
       "3           4  Female   23                  16                      77\n",
       "4           5  Female   31                  17                      40"
      ]
     },
     "execution_count": 9,
     "metadata": {
      "tags": []
     },
     "output_type": "execute_result"
    }
   ],
   "source": [
    "# Read data\n",
    "path = \"https://raw.githubusercontent.com/huynhthanh98/ML/master/lab-05/data.csv\"\n",
    "data = pd.read_csv(path)\n",
    "data.info()\n",
    "data.head()"
   ]
  },
  {
   "cell_type": "code",
   "execution_count": 10,
   "metadata": {
    "id": "yt0JnUQrLk7r"
   },
   "outputs": [],
   "source": [
    "#Drop duplicates \n",
    "data.drop_duplicates(inplace=True)"
   ]
  },
  {
   "cell_type": "code",
   "execution_count": 11,
   "metadata": {
    "id": "BymOM6PiLoEN"
   },
   "outputs": [],
   "source": [
    "# Prepare data\n",
    "X = data.iloc[:, [2, 3]].values\n",
    "X_train, X_test = train_test_split(X, test_size=0.33, random_state=42)"
   ]
  },
  {
   "cell_type": "code",
   "execution_count": 12,
   "metadata": {
    "colab": {
     "base_uri": "https://localhost:8080/",
     "height": 561
    },
    "id": "t6ch7vQSPDFK",
    "outputId": "72a1395a-c7ae-457f-ca29-d0e0a2e64f17"
   },
   "outputs": [
    {
     "name": "stdout",
     "output_type": "stream",
     "text": [
      "Complete training process in 7 iterations\n",
      "Complete training process in 9 iterations\n",
      "Complete training process in 4 iterations\n",
      "Complete training process in 11 iterations\n",
      "Complete training process in 6 iterations\n",
      "Complete training process in 10 iterations\n",
      "Complete training process in 6 iterations\n"
     ]
    },
    {
     "data": {
      "image/png": "[encoded data removed]",
      "text/plain": [
       "<Figure size 864x504 with 1 Axes>"
      ]
     },
     "metadata": {
      "needs_background": "light",
      "tags": []
     },
     "output_type": "display_data"
    }
   ],
   "source": [
    "# Elbow method for choosing number of clusters\n",
    "Ks = [2, 3 , 4, 5, 7, 9, 10]\n",
    "elbow_method(Ks, X_train)"
   ]
  },
  {
   "cell_type": "code",
   "execution_count": 13,
   "metadata": {
    "colab": {
     "base_uri": "https://localhost:8080/"
    },
    "id": "CRBw27XkUXwp",
    "outputId": "1aa66a13-5b7b-4300-b671-3d7a185c6d71"
   },
   "outputs": [
    {
     "name": "stdout",
     "output_type": "stream",
     "text": [
      "Complete training process in 4 iterations\n",
      "24957.08688694415\n",
      "[0 2 0 1 3 1 1 3 0 1 3 1 1 1 3 0 0 2 2 0 1 3 2 3 3 1 0 3 3 2 1 3 3 1 3 0 1\n",
      " 1 0 1 0 0 1 1 1 3 2 1 0 1 0 0 1 3 0 0 1 1 3 3 2 1 0 3 1 3 1 1 3 1 3 1 0 1\n",
      " 2 2 2 3 0 0 3 0 1 0 2 2 0 0 3 0 1 1 3 0 1 1 1 2 0 0 0 0 2 3 3 1 3 0 1 2 1\n",
      " 3 1 2 3 3 1 1 1 1 1 0 1 0 1 2 3 2 0 0 3 0 2 0]\n"
     ]
    }
   ],
   "source": [
    "# Model\n",
    "model2 = KMeans_clustering(n_clusters=4)\n",
    "model2.fit(X_train)\n",
    "pred = model2.predict(X_test)\n",
    "print(model2.inertia_)\n",
    "print(model2.labels_)"
   ]
  },
  {
   "cell_type": "code",
   "execution_count": 14,
   "metadata": {
    "colab": {
     "base_uri": "https://localhost:8080/",
     "height": 428
    },
    "id": "CBqBrZYDUxGi",
    "outputId": "6a5e1446-5d5e-4fc9-8310-63dc4cf4d5f4"
   },
   "outputs": [
    {
     "data": {
      "image/png": "[encoded data removed]",
      "text/plain": [
       "<Figure size 864x504 with 1 Axes>"
      ]
     },
     "metadata": {
      "needs_background": "light",
      "tags": []
     },
     "output_type": "display_data"
    }
   ],
   "source": [
    "# Plot outcome\n",
    "fig, ax = plt.subplots(1,1, figsize=(12,7))\n",
    "model2.display(X_test, pred, ax)\n",
    "plt.show()"
   ]
  }
 ],
 "metadata": {
  "colab": {
   "collapsed_sections": [],
   "name": "ML-Lab05.ipynb",
   "provenance": []
  },
  "kernelspec": {
   "display_name": "Python 3",
   "language": "python",
   "name": "python3"
  },
  "language_info": {
   "codemirror_mode": {
    "name": "ipython",
    "version": 3
   },
   "file_extension": ".py",
   "mimetype": "text/x-python",
   "name": "python",
   "nbconvert_exporter": "python",
   "pygments_lexer": "ipython3",
   "version": "3.8.3"
  }
 },
 "nbformat": 4,
 "nbformat_minor": 1
}
