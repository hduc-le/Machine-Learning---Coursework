{
  "nbformat": 4,
  "nbformat_minor": 0,
  "metadata": {
    "colab": {
      "name": "ML-Lab05.ipynb",
      "provenance": [],
      "collapsed_sections": []
    },
    "kernelspec": {
      "name": "python3",
      "display_name": "Python 3"
    },
    "language_info": {
      "name": "python"
    }
  },
  "cells": [
    {
      "cell_type": "code",
      "metadata": {
        "id": "6jhf9bSN2-v5"
      },
      "source": [
        "import numpy as np\n",
        "import pandas as pd\n",
        "from sklearn.model_selection import train_test_split\n",
        "from scipy.spatial import distance\n",
        "from sklearn.cluster import KMeans\n",
        "import random\n",
        "import matplotlib.pyplot as plt\n"
      ],
      "execution_count": 1,
      "outputs": []
    },
    {
      "cell_type": "code",
      "metadata": {
        "colab": {
          "base_uri": "https://localhost:8080/",
          "height": 357
        },
        "id": "vJrVgdtj3gMs",
        "outputId": "d53fb68b-27f3-4b24-bd31-caff1c584805"
      },
      "source": [
        "df = pd.read_csv('https://raw.githubusercontent.com/huynhthanh98/ML/master/lab-05/data_1.csv')\n",
        "df.info()\n",
        "df.head()"
      ],
      "execution_count": 2,
      "outputs": [
        {
          "output_type": "stream",
          "text": [
            "<class 'pandas.core.frame.DataFrame'>\n",
            "RangeIndex: 1500 entries, 0 to 1499\n",
            "Data columns (total 2 columns):\n",
            " #   Column  Non-Null Count  Dtype  \n",
            "---  ------  --------------  -----  \n",
            " 0   x1      1500 non-null   float64\n",
            " 1   x2      1500 non-null   float64\n",
            "dtypes: float64(2)\n",
            "memory usage: 23.6 KB\n"
          ],
          "name": "stdout"
        },
        {
          "output_type": "execute_result",
          "data": {
            "text/html": [
              "<div>\n",
              "<style scoped>\n",
              "    .dataframe tbody tr th:only-of-type {\n",
              "        vertical-align: middle;\n",
              "    }\n",
              "\n",
              "    .dataframe tbody tr th {\n",
              "        vertical-align: top;\n",
              "    }\n",
              "\n",
              "    .dataframe thead th {\n",
              "        text-align: right;\n",
              "    }\n",
              "</style>\n",
              "<table border=\"1\" class=\"dataframe\">\n",
              "  <thead>\n",
              "    <tr style=\"text-align: right;\">\n",
              "      <th></th>\n",
              "      <th>x1</th>\n",
              "      <th>x2</th>\n",
              "    </tr>\n",
              "  </thead>\n",
              "  <tbody>\n",
              "    <tr>\n",
              "      <th>0</th>\n",
              "      <td>-6.111197</td>\n",
              "      <td>1.471531</td>\n",
              "    </tr>\n",
              "    <tr>\n",
              "      <th>1</th>\n",
              "      <td>-7.496654</td>\n",
              "      <td>0.913425</td>\n",
              "    </tr>\n",
              "    <tr>\n",
              "      <th>2</th>\n",
              "      <td>-10.844898</td>\n",
              "      <td>-7.553523</td>\n",
              "    </tr>\n",
              "    <tr>\n",
              "      <th>3</th>\n",
              "      <td>-4.543377</td>\n",
              "      <td>-2.135686</td>\n",
              "    </tr>\n",
              "    <tr>\n",
              "      <th>4</th>\n",
              "      <td>-1.913821</td>\n",
              "      <td>-0.034780</td>\n",
              "    </tr>\n",
              "  </tbody>\n",
              "</table>\n",
              "</div>"
            ],
            "text/plain": [
              "          x1        x2\n",
              "0  -6.111197  1.471531\n",
              "1  -7.496654  0.913425\n",
              "2 -10.844898 -7.553523\n",
              "3  -4.543377 -2.135686\n",
              "4  -1.913821 -0.034780"
            ]
          },
          "metadata": {
            "tags": []
          },
          "execution_count": 2
        }
      ]
    },
    {
      "cell_type": "code",
      "metadata": {
        "colab": {
          "base_uri": "https://localhost:8080/"
        },
        "id": "3Nuah_7yG0vN",
        "outputId": "fb7336ef-cd58-4f25-baee-a623ed9a171d"
      },
      "source": [
        "X = df.to_numpy()\n",
        "X.shape"
      ],
      "execution_count": 3,
      "outputs": [
        {
          "output_type": "execute_result",
          "data": {
            "text/plain": [
              "(1500, 2)"
            ]
          },
          "metadata": {
            "tags": []
          },
          "execution_count": 3
        }
      ]
    },
    {
      "cell_type": "code",
      "metadata": {
        "id": "ZAMD1-hK3nzw"
      },
      "source": [
        "class KMeans_clustering:\n",
        "    pass\n",
        "    '''\n",
        "        An inheritance of K-Means clustering algorithm\n",
        "    '''\n",
        "    def __init__(self, n_clusters=8):\n",
        "        pass\n",
        "        '''\n",
        "            n_clusters: number of clusters\n",
        "            _centroids: center/ centroid of clusters\n",
        "            _inertia: sum of squared distances of samples to their closest cluster center\n",
        "            _labels: labels of samples\n",
        "        '''\n",
        "        self.n_clusters = n_clusters\n",
        "        self._centroids = []\n",
        "        self.inertia_ = 0\n",
        "        self.labels_ = []\n",
        "\n",
        "    def fit(self, X):\n",
        "        if type(X) != np.ndarray:\n",
        "            X = X.to_numpy()\n",
        "        N, p = X.shape\n",
        "        # random.seed(42)\n",
        "        k_indices = random.sample(range(0,N),self.n_clusters)\n",
        "        self._centroids = X[k_indices] # random K-samples to be centroids\n",
        "        pre_clusters = np.zeros((N,1))\n",
        "        it = 0\n",
        "        while True:\n",
        "            pass\n",
        "            it+=1\n",
        "\n",
        "            distances = self._calc_dists(X, self._centroids)\n",
        "            self.labels_ = self._iden_cluster(distances) # assign new labels \n",
        "\n",
        "            if self._has_convert(pre_labels=pre_clusters, cur_labels=self.labels_):\n",
        "                break\n",
        "\n",
        "            pre_clusters = self.labels_.copy() \n",
        "            self._update_centroids(self.labels_)\n",
        "\n",
        "        self.inertia_ = self._calc_total_WCV(X, self.labels_, self._centroids)\n",
        "\n",
        "        return 'Complete training process in {} iterations'.format(it)\n",
        "    def _calc_dists(self, X, centroids):\n",
        "        '''\n",
        "            Calculate and choose minimum distances of the samples to the centroids\n",
        "            ----------------------------------\n",
        "            --| centroid_1 | centroid_2 | centroid_3 | ... | centroid_K \n",
        "            -----------------------------------------------------------\n",
        "            x1|     d11    |     d12    |     d13    | ... |    d1k   |\n",
        "            -----------------------------------------------------------\n",
        "            x2|     d21    |     d22    |     d23    | ... |    d2k   |\n",
        "            -----------------------------------------------------------\n",
        "            .\n",
        "            .\n",
        "            .\n",
        "            -----------------------------------------------------------\n",
        "            xn|     dn1    |     dn2    |     dn3    | ... |    dnk   |\n",
        "\n",
        "            -----------------------------------------------------------\n",
        "\n",
        "            Params:\n",
        "                @x: array-like\n",
        "                    Input data\n",
        "                @centroids: array-like\n",
        "                    K centroids as array\n",
        "            -----------------------------------------------------------\n",
        "            Return:\n",
        "                The distances from samples to the centroids\n",
        "        '''\n",
        "        return distance.cdist(X, centroids, 'euclidean')\n",
        "    def _iden_cluster(self, distances):\n",
        "        '''\n",
        "            Find the cluster to which each sample belongs\n",
        "            ---------------------------------------------\n",
        "            Params:\n",
        "                @distances: array-like\n",
        "                    Distances from samples to the centroids\n",
        "            ---------------------------------------------\n",
        "            Return: \n",
        "                @array-like (typically 1d-array)\n",
        "                The cluster indices to which samples belong\n",
        "        '''\n",
        "        return np.argmin(distances,axis=1)\n",
        "\n",
        "    def _update_centroids(self, labels):\n",
        "        '''\n",
        "            Update the centroids following new labels\n",
        "        '''\n",
        "        mean = np.array([X[labels == k].mean(axis=0) for k in range(self.n_clusters)])\n",
        "        self._centroids = mean\n",
        "\n",
        "    def _calc_total_WCV(self, X, labels, centroids):\n",
        "        '''\n",
        "            Calculate the total sum of squared distances of samples to their closted cluster centroid\n",
        "            ----------------------\n",
        "            Params: \n",
        "                @X: array-like\n",
        "                    Input data\n",
        "                @labels: array-like\n",
        "                    Labels of samples\n",
        "                @centroids: array-like\n",
        "                    Centroids of clusters\n",
        "            ----------------------\n",
        "            Return: float\n",
        "                the total sum of squared distances\n",
        "        '''\n",
        "        pass \n",
        "        WCVs = [np.sum(np.linalg.norm(X[labels == k] - centroids[k],axis=1)**2) for k in range(self.n_clusters)]\n",
        "        return np.sum(WCVs)\n",
        "    \n",
        "    def _has_convert(self, pre_labels, cur_labels):\n",
        "        pass\n",
        "        '''\n",
        "            Verify the algorithm has convert, i.e: the curent label of samples do not differ from before\n",
        "            ------------------\n",
        "            Params:\n",
        "                @pre_labels: array-like (ordinarily, should be 1D vector)\n",
        "                    Previous labels \n",
        "                @cur_labels: array-like (ordinarily, should be 1D vector)\n",
        "                    Curent labels\n",
        "            -----------------\n",
        "            Return: bool\n",
        "                True for all elements in two vector are equal.\n",
        "        '''\n",
        "        return (pre_labels == cur_labels).all()\n",
        "\n",
        "    def _predict(self, X_test):\n",
        "        '''\n",
        "            Assign labels for unseen data.\n",
        "            ----------------\n",
        "            Params: \n",
        "                @X_test: array-like\n",
        "                    Data test\n",
        "            ----------------\n",
        "            Return: array-like\n",
        "                Label of samples \n",
        "        '''\n",
        "        pass\n",
        "        distances_test = self._calc_dists(X_test, self._centroids)\n",
        "        test_labels = self._iden_cluster(distances_test)\n",
        "        return test_labels\n",
        "\n",
        "    def predict(self, X_test):\n",
        "        pass\n",
        "        if type(X_test) != np.ndarray:\n",
        "            X_test = X_test.to_numpy()\n",
        "        return self._predict(X_test)\n",
        "    def display(self, X, ax):\n",
        "        '''\n",
        "            Visualize outcome\n",
        "            ----------------\n",
        "            Params:\n",
        "                @X: array-like\n",
        "                    Input data, Note: Dimension of samples must be less or equal to 2\n",
        "                @ax: array-like\n",
        "                    axis\n",
        "            Return: array-like\n",
        "                axis for plotting\n",
        "        '''\n",
        "        if X.shape[1] > 2:\n",
        "            return 'DIMENSION ERROR!!!'\n",
        "        for k in range(self.n_clusters):\n",
        "            color = list(np.random.choice(range(256), size=3)/255)\n",
        "            ax.scatter(X[self.labels_ == k,:][:,0], X[self.labels_ == k,:][:,1], color=color)\n",
        "            ax.scatter(self._centroids[k,0], self._centroids[k,1], c='r', marker='*',s=150)\n",
        "        ax.axis('equal')\n",
        "        return ax\n",
        "    "
      ],
      "execution_count": 4,
      "outputs": []
    },
    {
      "cell_type": "code",
      "metadata": {
        "colab": {
          "base_uri": "https://localhost:8080/",
          "height": 35
        },
        "id": "XhCk45AsUkGY",
        "outputId": "32671fee-f99e-4306-abbb-80c0bff5d09d"
      },
      "source": [
        "model = KMeans_clustering(n_clusters=3)\n",
        "model.fit(X)"
      ],
      "execution_count": 5,
      "outputs": [
        {
          "output_type": "execute_result",
          "data": {
            "application/vnd.google.colaboratory.intrinsic+json": {
              "type": "string"
            },
            "text/plain": [
              "'Complete training process in 11 iterations'"
            ]
          },
          "metadata": {
            "tags": []
          },
          "execution_count": 5
        }
      ]
    },
    {
      "cell_type": "code",
      "metadata": {
        "colab": {
          "base_uri": "https://localhost:8080/"
        },
        "id": "pE6UYqQBU3ks",
        "outputId": "0bc38440-be90-4261-91d5-53e91fd08677"
      },
      "source": [
        "print(model.inertia_)"
      ],
      "execution_count": 6,
      "outputs": [
        {
          "output_type": "stream",
          "text": [
            "5747.987366346274\n"
          ],
          "name": "stdout"
        }
      ]
    },
    {
      "cell_type": "code",
      "metadata": {
        "colab": {
          "base_uri": "https://localhost:8080/",
          "height": 428
        },
        "id": "v-nVD25Vecv0",
        "outputId": "6698e349-017d-4643-8ec5-b5b87582be74"
      },
      "source": [
        "fig, ax = plt.subplots(1,1,figsize=(12,7))\n",
        "ax = model.display(X, ax)"
      ],
      "execution_count": 7,
      "outputs": [
        {
          "output_type": "display_data",
          "data": {
            "image/png": "[encoded data removed]",
            "text/plain": [
              "<Figure size 864x504 with 1 Axes>"
            ]
          },
          "metadata": {
            "tags": [],
            "needs_background": "light"
          }
        }
      ]
    },
    {
      "cell_type": "code",
      "metadata": {
        "id": "Np3JH53f3oSE"
      },
      "source": [
        "# Elbow method\n",
        "Ks = [2, 3 , 4, 5, 7, 9, 10]\n",
        "WCVs = []\n",
        "for k in Ks:\n",
        "    kmeans = KMeans_clustering(n_clusters=k)\n",
        "    kmeans.fit(X)\n",
        "    WCVs.append(kmeans.inertia_)"
      ],
      "execution_count": 9,
      "outputs": []
    },
    {
      "cell_type": "code",
      "metadata": {
        "colab": {
          "base_uri": "https://localhost:8080/",
          "height": 445
        },
        "id": "uTHfg_FF5EHm",
        "outputId": "bc581d66-78d9-4760-e893-2817939bfdd4"
      },
      "source": [
        "plt.figure(figsize=(12,7))\n",
        "plt.plot(Ks, WCVs, marker='x', color='r')"
      ],
      "execution_count": 10,
      "outputs": [
        {
          "output_type": "execute_result",
          "data": {
            "text/plain": [
              "[<matplotlib.lines.Line2D at 0x7fa9d8cb0290>]"
            ]
          },
          "metadata": {
            "tags": []
          },
          "execution_count": 10
        },
        {
          "output_type": "display_data",
          "data": {
            "image/png": "[encoded data removed]",
            "text/plain": [
              "<Figure size 864x504 with 1 Axes>"
            ]
          },
          "metadata": {
            "tags": [],
            "needs_background": "light"
          }
        }
      ]
    },
    {
      "cell_type": "code",
      "metadata": {
        "id": "dBUDCKhS5Wur"
      },
      "source": [
        ""
      ],
      "execution_count": null,
      "outputs": []
    }
  ]
}