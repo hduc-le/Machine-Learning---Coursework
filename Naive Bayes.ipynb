{
 "cells": [
  {
   "cell_type": "code",
   "execution_count": 1,
   "metadata": {
    "id": "VX3fcF8ahdXp"
   },
   "outputs": [],
   "source": [
    "import pandas as pd\n",
    "import numpy as np\n",
    "from sklearn.model_selection import train_test_split\n",
    "from sklearn.metrics import accuracy_score\n",
    "from sklearn.preprocessing import LabelEncoder"
   ]
  },
  {
   "cell_type": "markdown",
   "metadata": {},
   "source": [
    "## Categorical Naive Bayes Classifier"
   ]
  },
  {
   "cell_type": "code",
   "execution_count": 2,
   "metadata": {
    "colab": {
     "base_uri": "https://localhost:8080/",
     "height": 204
    },
    "id": "_OBWWXw0hkOi",
    "outputId": "9e43c1de-3e71-43a4-e330-2801764cfdcc"
   },
   "outputs": [
    {
     "data": {
      "text/html": [
       "<div>\n",
       "<style scoped>\n",
       "    .dataframe tbody tr th:only-of-type {\n",
       "        vertical-align: middle;\n",
       "    }\n",
       "\n",
       "    .dataframe tbody tr th {\n",
       "        vertical-align: top;\n",
       "    }\n",
       "\n",
       "    .dataframe thead th {\n",
       "        text-align: right;\n",
       "    }\n",
       "</style>\n",
       "<table border=\"1\" class=\"dataframe\">\n",
       "  <thead>\n",
       "    <tr style=\"text-align: right;\">\n",
       "      <th></th>\n",
       "      <th>PassengerId</th>\n",
       "      <th>Survived</th>\n",
       "      <th>Pclass</th>\n",
       "      <th>Name</th>\n",
       "      <th>Sex</th>\n",
       "      <th>Age</th>\n",
       "      <th>SibSp</th>\n",
       "      <th>Parch</th>\n",
       "      <th>Ticket</th>\n",
       "      <th>Fare</th>\n",
       "      <th>Cabin</th>\n",
       "      <th>Embarked</th>\n",
       "    </tr>\n",
       "  </thead>\n",
       "  <tbody>\n",
       "    <tr>\n",
       "      <th>0</th>\n",
       "      <td>1</td>\n",
       "      <td>0</td>\n",
       "      <td>3</td>\n",
       "      <td>Braund, Mr. Owen Harris</td>\n",
       "      <td>male</td>\n",
       "      <td>22.0</td>\n",
       "      <td>1</td>\n",
       "      <td>0</td>\n",
       "      <td>A/5 21171</td>\n",
       "      <td>7.2500</td>\n",
       "      <td>NaN</td>\n",
       "      <td>S</td>\n",
       "    </tr>\n",
       "    <tr>\n",
       "      <th>1</th>\n",
       "      <td>2</td>\n",
       "      <td>1</td>\n",
       "      <td>1</td>\n",
       "      <td>Cumings, Mrs. John Bradley (Florence Briggs Th...</td>\n",
       "      <td>female</td>\n",
       "      <td>38.0</td>\n",
       "      <td>1</td>\n",
       "      <td>0</td>\n",
       "      <td>PC 17599</td>\n",
       "      <td>71.2833</td>\n",
       "      <td>C85</td>\n",
       "      <td>C</td>\n",
       "    </tr>\n",
       "    <tr>\n",
       "      <th>2</th>\n",
       "      <td>3</td>\n",
       "      <td>1</td>\n",
       "      <td>3</td>\n",
       "      <td>Heikkinen, Miss. Laina</td>\n",
       "      <td>female</td>\n",
       "      <td>26.0</td>\n",
       "      <td>0</td>\n",
       "      <td>0</td>\n",
       "      <td>STON/O2. 3101282</td>\n",
       "      <td>7.9250</td>\n",
       "      <td>NaN</td>\n",
       "      <td>S</td>\n",
       "    </tr>\n",
       "    <tr>\n",
       "      <th>3</th>\n",
       "      <td>4</td>\n",
       "      <td>1</td>\n",
       "      <td>1</td>\n",
       "      <td>Futrelle, Mrs. Jacques Heath (Lily May Peel)</td>\n",
       "      <td>female</td>\n",
       "      <td>35.0</td>\n",
       "      <td>1</td>\n",
       "      <td>0</td>\n",
       "      <td>113803</td>\n",
       "      <td>53.1000</td>\n",
       "      <td>C123</td>\n",
       "      <td>S</td>\n",
       "    </tr>\n",
       "    <tr>\n",
       "      <th>4</th>\n",
       "      <td>5</td>\n",
       "      <td>0</td>\n",
       "      <td>3</td>\n",
       "      <td>Allen, Mr. William Henry</td>\n",
       "      <td>male</td>\n",
       "      <td>35.0</td>\n",
       "      <td>0</td>\n",
       "      <td>0</td>\n",
       "      <td>373450</td>\n",
       "      <td>8.0500</td>\n",
       "      <td>NaN</td>\n",
       "      <td>S</td>\n",
       "    </tr>\n",
       "  </tbody>\n",
       "</table>\n",
       "</div>"
      ],
      "text/plain": [
       "   PassengerId  Survived  Pclass  \\\n",
       "0            1         0       3   \n",
       "1            2         1       1   \n",
       "2            3         1       3   \n",
       "3            4         1       1   \n",
       "4            5         0       3   \n",
       "\n",
       "                                                Name     Sex   Age  SibSp  \\\n",
       "0                            Braund, Mr. Owen Harris    male  22.0      1   \n",
       "1  Cumings, Mrs. John Bradley (Florence Briggs Th...  female  38.0      1   \n",
       "2                             Heikkinen, Miss. Laina  female  26.0      0   \n",
       "3       Futrelle, Mrs. Jacques Heath (Lily May Peel)  female  35.0      1   \n",
       "4                           Allen, Mr. William Henry    male  35.0      0   \n",
       "\n",
       "   Parch            Ticket     Fare Cabin Embarked  \n",
       "0      0         A/5 21171   7.2500   NaN        S  \n",
       "1      0          PC 17599  71.2833   C85        C  \n",
       "2      0  STON/O2. 3101282   7.9250   NaN        S  \n",
       "3      0            113803  53.1000  C123        S  \n",
       "4      0            373450   8.0500   NaN        S  "
      ]
     },
     "execution_count": 2,
     "metadata": {},
     "output_type": "execute_result"
    }
   ],
   "source": [
    "data=pd.read_csv('https://raw.githubusercontent.com/huynhthanh98/ML/master/lab-04/train.csv')\n",
    "data.head()"
   ]
  },
  {
   "cell_type": "code",
   "execution_count": 3,
   "metadata": {
    "id": "yny7_ARyhnd4"
   },
   "outputs": [],
   "source": [
    "data=data.drop([\"Cabin\"],axis=1)\n",
    "data=data.dropna()"
   ]
  },
  {
   "cell_type": "code",
   "execution_count": 4,
   "metadata": {
    "colab": {
     "base_uri": "https://localhost:8080/",
     "height": 204
    },
    "id": "OYN2KR9Hh2gI",
    "outputId": "b1a598bb-83e1-485f-a473-9ce06d121f14"
   },
   "outputs": [
    {
     "data": {
      "text/html": [
       "<div>\n",
       "<style scoped>\n",
       "    .dataframe tbody tr th:only-of-type {\n",
       "        vertical-align: middle;\n",
       "    }\n",
       "\n",
       "    .dataframe tbody tr th {\n",
       "        vertical-align: top;\n",
       "    }\n",
       "\n",
       "    .dataframe thead th {\n",
       "        text-align: right;\n",
       "    }\n",
       "</style>\n",
       "<table border=\"1\" class=\"dataframe\">\n",
       "  <thead>\n",
       "    <tr style=\"text-align: right;\">\n",
       "      <th></th>\n",
       "      <th>Pclass</th>\n",
       "      <th>Sex</th>\n",
       "      <th>Embarked</th>\n",
       "    </tr>\n",
       "  </thead>\n",
       "  <tbody>\n",
       "    <tr>\n",
       "      <th>0</th>\n",
       "      <td>3</td>\n",
       "      <td>male</td>\n",
       "      <td>S</td>\n",
       "    </tr>\n",
       "    <tr>\n",
       "      <th>1</th>\n",
       "      <td>1</td>\n",
       "      <td>female</td>\n",
       "      <td>C</td>\n",
       "    </tr>\n",
       "    <tr>\n",
       "      <th>2</th>\n",
       "      <td>3</td>\n",
       "      <td>female</td>\n",
       "      <td>S</td>\n",
       "    </tr>\n",
       "    <tr>\n",
       "      <th>3</th>\n",
       "      <td>1</td>\n",
       "      <td>female</td>\n",
       "      <td>S</td>\n",
       "    </tr>\n",
       "    <tr>\n",
       "      <th>4</th>\n",
       "      <td>3</td>\n",
       "      <td>male</td>\n",
       "      <td>S</td>\n",
       "    </tr>\n",
       "  </tbody>\n",
       "</table>\n",
       "</div>"
      ],
      "text/plain": [
       "   Pclass     Sex Embarked\n",
       "0       3    male        S\n",
       "1       1  female        C\n",
       "2       3  female        S\n",
       "3       1  female        S\n",
       "4       3    male        S"
      ]
     },
     "execution_count": 4,
     "metadata": {},
     "output_type": "execute_result"
    }
   ],
   "source": [
    "# Prepare data\n",
    "features = ['Pclass', 'Sex', 'Embarked']\n",
    "df = data[features]\n",
    "y = data.Survived\n",
    "df.head()"
   ]
  },
  {
   "cell_type": "code",
   "execution_count": 5,
   "metadata": {
    "id": "xSWoOofIjmel"
   },
   "outputs": [],
   "source": [
    "X_train, X_test, y_train, y_test = train_test_split(df, y, test_size=0.2, random_state=42)"
   ]
  },
  {
   "cell_type": "code",
   "execution_count": 6,
   "metadata": {
    "colab": {
     "base_uri": "https://localhost:8080/",
     "height": 221
    },
    "id": "ubmu17aVw05Q",
    "outputId": "22d2ec9e-8efd-41a4-e219-aa10011331e7"
   },
   "outputs": [
    {
     "name": "stdout",
     "output_type": "stream",
     "text": [
      "(569, 3)\n"
     ]
    },
    {
     "data": {
      "text/html": [
       "<div>\n",
       "<style scoped>\n",
       "    .dataframe tbody tr th:only-of-type {\n",
       "        vertical-align: middle;\n",
       "    }\n",
       "\n",
       "    .dataframe tbody tr th {\n",
       "        vertical-align: top;\n",
       "    }\n",
       "\n",
       "    .dataframe thead th {\n",
       "        text-align: right;\n",
       "    }\n",
       "</style>\n",
       "<table border=\"1\" class=\"dataframe\">\n",
       "  <thead>\n",
       "    <tr style=\"text-align: right;\">\n",
       "      <th></th>\n",
       "      <th>Pclass</th>\n",
       "      <th>Sex</th>\n",
       "      <th>Embarked</th>\n",
       "    </tr>\n",
       "  </thead>\n",
       "  <tbody>\n",
       "    <tr>\n",
       "      <th>472</th>\n",
       "      <td>2</td>\n",
       "      <td>female</td>\n",
       "      <td>S</td>\n",
       "    </tr>\n",
       "    <tr>\n",
       "      <th>432</th>\n",
       "      <td>2</td>\n",
       "      <td>female</td>\n",
       "      <td>S</td>\n",
       "    </tr>\n",
       "    <tr>\n",
       "      <th>666</th>\n",
       "      <td>2</td>\n",
       "      <td>male</td>\n",
       "      <td>S</td>\n",
       "    </tr>\n",
       "    <tr>\n",
       "      <th>30</th>\n",
       "      <td>1</td>\n",
       "      <td>male</td>\n",
       "      <td>C</td>\n",
       "    </tr>\n",
       "    <tr>\n",
       "      <th>291</th>\n",
       "      <td>1</td>\n",
       "      <td>female</td>\n",
       "      <td>C</td>\n",
       "    </tr>\n",
       "  </tbody>\n",
       "</table>\n",
       "</div>"
      ],
      "text/plain": [
       "     Pclass     Sex Embarked\n",
       "472       2  female        S\n",
       "432       2  female        S\n",
       "666       2    male        S\n",
       "30        1    male        C\n",
       "291       1  female        C"
      ]
     },
     "execution_count": 6,
     "metadata": {},
     "output_type": "execute_result"
    }
   ],
   "source": [
    "print(X_train.shape)\n",
    "X_train.head()"
   ]
  },
  {
   "cell_type": "code",
   "execution_count": 7,
   "metadata": {
    "id": "R81mZz3i1A6k"
   },
   "outputs": [],
   "source": [
    "class Categorical_NB:\n",
    "    def __init__(self, alpha=1):\n",
    "        pass\n",
    "        self.alpha = alpha\n",
    "        self._likelihood = {}\n",
    "        self._classes = []\n",
    "    def fit(self, X_train, y_train):\n",
    "        if type(X_train) != np.ndarray:\n",
    "            X_train = X_train.to_numpy()\n",
    "        if type(y_train) != np.ndarray:\n",
    "            y_train = y_train.to_numpy()\n",
    "\n",
    "        self._classes = np.unique(y_train)\n",
    "        self._prior = [np.sum(y_train == j)/len(y_train) for j in self._classes]\n",
    "        self._compute_likelihood(X_train, y_train)\n",
    "    def _compute_likelihood(self, X_train, y_train):\n",
    "        pass\n",
    "        if type(X_train) != np.ndarray:\n",
    "            X_train = X_train.to_numpy()\n",
    "        if type(y_train) != np.ndarray:\n",
    "            y_train = y_train.to_numpy()\n",
    "        \n",
    "        for c in self._classes:\n",
    "            tmp_list = []\n",
    "            for col in range(X_train.shape[1]):\n",
    "                tmp_set = {}\n",
    "                for f in np.unique(X_train[:,col]):\n",
    "                    tmp_set[f] = (np.sum(X_train[:,col][y_train == c]==f) + self.alpha) /\\\n",
    "                                 (np.sum(y_train==c) + len(self._classes)*self.alpha)\n",
    "                tmp_list.append(tmp_set)\n",
    "            self._likelihood[c] = tmp_list\n",
    "        \n",
    "    def P_Xtest_giv_y(self, X_test):\n",
    "        if type(X_test) != np.ndarray:\n",
    "            X_test = X_test.to_numpy()\n",
    "\n",
    "        X_test_proba = np.zeros_like(X_test)\n",
    "        P_Xtest_giv_y = {}\n",
    "        for c in self._classes:\n",
    "            for j in range(X_test.shape[1]):\n",
    "                for i in range(X_test.shape[0]):\n",
    "                    k = X_test[i, j]\n",
    "                    X_test_proba[i, j] = self._likelihood[c][j][k]\n",
    "            P_Xtest_giv_y[c] = np.prod(X_test_proba,axis=1)\n",
    "        return P_Xtest_giv_y\n",
    "\n",
    "    def _predict(self, X_test):\n",
    "        if type(X_test) != np.ndarray:\n",
    "            X_test = X_test.to_numpy()\n",
    "            \n",
    "        P_X_giv_y = self.P_Xtest_giv_y(X_test)\n",
    "\n",
    "        Postorior0 = self._prior[0]*P_X_giv_y[0]\n",
    "        Postorior1 = self._prior[1]*P_X_giv_y[1]\n",
    "       \n",
    "        return (Postorior1 > Postorior0).astype(float)\n",
    "\n",
    "    def predict(self, X_test):\n",
    "        if type(X_test) != np.ndarray:\n",
    "            X_test = X_test.to_numpy()\n",
    "        return self._predict(X_test)\n",
    "\n",
    "    def score(self, X_test, y_test):\n",
    "        if type(X_test) != np.ndarray:\n",
    "            X_test = X_test.to_numpy()\n",
    "        pred = self.predict(X_test)\n",
    "        return accuracy_score(y_test, pred)"
   ]
  },
  {
   "cell_type": "code",
   "execution_count": 8,
   "metadata": {
    "id": "BJKzy2vShGl-"
   },
   "outputs": [],
   "source": [
    "class MultiColumnLabelEncoder:\n",
    "    def __init__(self,columns = None):\n",
    "        self.columns = columns # array of column names to encode\n",
    "\n",
    "    def fit(self,X,y=None):\n",
    "        return self # not relevant here\n",
    "\n",
    "    def transform(self,X):\n",
    "        '''\n",
    "        Transforms columns of X specified in self.columns using\n",
    "        LabelEncoder(). If no columns specified, transforms all\n",
    "        columns in X.\n",
    "        '''\n",
    "        output = X.copy()\n",
    "        if self.columns is not None:\n",
    "            for col in self.columns:\n",
    "                output[col] = LabelEncoder().fit_transform(output[col])\n",
    "        else:\n",
    "            for colname,col in output.iteritems():\n",
    "                output[colname] = LabelEncoder().fit_transform(col)\n",
    "        return output\n",
    "\n",
    "    def fit_transform(self,X,y=None):\n",
    "        return self.fit(X,y).transform(X)"
   ]
  },
  {
   "cell_type": "code",
   "execution_count": 9,
   "metadata": {
    "colab": {
     "base_uri": "https://localhost:8080/"
    },
    "id": "OfRugVEUgO-X",
    "outputId": "455ea8fa-0b86-42aa-9466-5b5c81d17e9d"
   },
   "outputs": [
    {
     "name": "stdout",
     "output_type": "stream",
     "text": [
      "0.7622377622377622\n"
     ]
    }
   ],
   "source": [
    "# My model\n",
    "model = Categorical_NB()\n",
    "model.fit(X_train, y_train)\n",
    "print(model.score(X_test, y_test))"
   ]
  },
  {
   "cell_type": "code",
   "execution_count": 10,
   "metadata": {
    "colab": {
     "base_uri": "https://localhost:8080/"
    },
    "id": "8V5kJ3KIgbM8",
    "outputId": "93b2b388-7bc1-402f-bc84-a2a298fc67e9"
   },
   "outputs": [
    {
     "name": "stdout",
     "output_type": "stream",
     "text": [
      "0.7622377622377622\n"
     ]
    }
   ],
   "source": [
    "# Sklearn model\n",
    "from sklearn.naive_bayes import CategoricalNB\n",
    "X_train_enc = MultiColumnLabelEncoder(columns = ['Sex','Embarked']).fit_transform(X_train)\n",
    "X_test_enc = MultiColumnLabelEncoder(columns = ['Sex','Embarked']).fit_transform(X_test)\n",
    "sklearn_model = CategoricalNB()\n",
    "sklearn_model.fit(X_train_enc, y_train)\n",
    "sklearn_pred = sklearn_model.predict(X_test_enc)\n",
    "# print(sklearn_pred)\n",
    "print(sklearn_model.score(X_test_enc, y_test))"
   ]
  },
  {
   "cell_type": "markdown",
   "metadata": {},
   "source": [
    "## Gaussian Naive Bayes Classifier"
   ]
  },
  {
   "cell_type": "code",
   "execution_count": 11,
   "metadata": {
    "id": "smmsbv37ixSW"
   },
   "outputs": [],
   "source": [
    "class Gaussian_NB:\n",
    "    def __init__(self):\n",
    "        pass\n",
    "        self._means = {}\n",
    "        self._stds = {}\n",
    "        self._classes = []\n",
    "\n",
    "    def fit(self, X_train, y_train):\n",
    "        if type(X_train) != np.ndarray:\n",
    "            X_train = X_train.to_numpy()\n",
    "        if type(y_train) != np.ndarray:\n",
    "            y_train = y_train.to_numpy()\n",
    "\n",
    "        self._classes = np.unique(y_train)\n",
    "        self._prior = {c:np.sum(y_train==c)/len(y_train) for c in self._classes}\n",
    "        self._compute_params(X_train, y_train)\n",
    "\n",
    "    def _compute_params(self, X_train, y_train):\n",
    "        pass\n",
    "        self._means = {c: X_train[y_train == c].mean(axis=0) for c in self._classes}\n",
    "        self._stds = {c: X_train[y_train == c].std(axis=0) for c in self._classes}\n",
    "\n",
    "    def _pdf(self, x, mean, std):\n",
    "        return (1.0/(np.sqrt(2*np.pi)*std))*np.exp((-(x-mean)**2)/(2*std**2))\n",
    "\n",
    "    def P_Xtest_giv_y(self, X_test):\n",
    "        if type(X_test) != np.ndarray:\n",
    "            X_test = X_test.to_numpy()\n",
    "        \n",
    "        P_X_test_giv_y = {}\n",
    "\n",
    "        for c in self._classes:\n",
    "            X_test_proba = np.zeros(X_test.shape)\n",
    "            for j in range(X_test.shape[1]):\n",
    "                mean = self._means[c][j]\n",
    "                std = self._stds[c][j]\n",
    "                for i in range(X_test.shape[0]):\n",
    "                    x = X_test[i,j]\n",
    "                    X_test_proba[i,j] = self._pdf(x, mean, std) # Bug is here, cannot assign to X_test_proba[i, j]\n",
    "            P_X_test_giv_y[c] = np.prod(X_test_proba, axis=1)\n",
    "        \n",
    "        return P_X_test_giv_y\n",
    "\n",
    "    def predict(self, X_test):\n",
    "        if type(X_test) != np.ndarray:\n",
    "            X_test = X_test.to_numpy()\n",
    "        return self._predict(X_test)\n",
    "\n",
    "    def _predict(self, X_test):\n",
    "        updated_likelihood = self.P_Xtest_giv_y(X_test)\n",
    "        Postorior = {c: self._prior[c] * updated_likelihood[c] for c in self._classes}\n",
    "        return (Postorior[1] > Postorior[0]).astype(float)\n",
    "\n",
    "    def score(self, X_test, y_test):\n",
    "        if type(X_test) != np.ndarray:\n",
    "            X_test = X_test.to_numpy()\n",
    "        if type(y_test) != np.ndarray:\n",
    "            y_test = y_test.to_numpy()\n",
    "        pred = self.predict(X_test)\n",
    "        return accuracy_score(pred, y_test)"
   ]
  },
  {
   "cell_type": "code",
   "execution_count": 12,
   "metadata": {
    "id": "IO7CyG5w05V6"
   },
   "outputs": [],
   "source": [
    "# Prepare data\n",
    "cols = ['SibSp', 'Parch', 'Fare']\n",
    "X = data[cols]\n",
    "y = data.Survived\n",
    "# Split data\n",
    "X_train, X_test, y_train, y_test = train_test_split(X, y, test_size=0.2, random_state=42)"
   ]
  },
  {
   "cell_type": "code",
   "execution_count": 13,
   "metadata": {
    "colab": {
     "base_uri": "https://localhost:8080/"
    },
    "id": "G5SskbHi1GwV",
    "outputId": "78edd09b-9328-4796-877d-a6627e2765ad"
   },
   "outputs": [
    {
     "name": "stdout",
     "output_type": "stream",
     "text": [
      "0.6363636363636364\n"
     ]
    }
   ],
   "source": [
    "# My model\n",
    "model = Gaussian_NB()\n",
    "model.fit(X_train, y_train)\n",
    "print(model.score(X_test,y_test))"
   ]
  },
  {
   "cell_type": "code",
   "execution_count": 14,
   "metadata": {
    "colab": {
     "base_uri": "https://localhost:8080/"
    },
    "id": "YEU1MG_V1H2v",
    "outputId": "07a63276-c60c-445b-b307-17c608b59cf8"
   },
   "outputs": [
    {
     "name": "stdout",
     "output_type": "stream",
     "text": [
      "0.6363636363636364\n"
     ]
    }
   ],
   "source": [
    "from sklearn.naive_bayes import GaussianNB\n",
    "# Sklearn model\n",
    "clf = GaussianNB()\n",
    "clf.fit(X_train, y_train)\n",
    "pred = clf.predict(X_test)\n",
    "print(clf.score(X_test, y_test))\n",
    "# print(pred)"
   ]
  },
  {
   "cell_type": "markdown",
   "metadata": {},
   "source": [
    "## Mix model"
   ]
  },
  {
   "cell_type": "code",
   "execution_count": 15,
   "metadata": {
    "id": "GE2npAtn1TCS"
   },
   "outputs": [],
   "source": [
    "class Mix_Model:\n",
    "    def __init__(self):\n",
    "        pass\n",
    "        self._classes = []\n",
    "        self._prior = {}\n",
    "        self._cate_model = None\n",
    "        self._num_model = None\n",
    "\n",
    "    def fit(self, X_train, y_train):\n",
    "        X_train_cat = X_train.select_dtypes(include=['object'])\n",
    "        X_train_num = X_train.select_dtypes(exclude=['object'])\n",
    "\n",
    "        if type(X_train_cat) != np.ndarray:\n",
    "            X_train_cat = X_train_cat.to_numpy() \n",
    "        if type(X_train_num) != np.ndarray:\n",
    "            X_train_num = X_train_num.to_numpy() \n",
    "        if type(y_train) != np.ndarray:\n",
    "            y_train = y_train.to_numpy()\n",
    "\n",
    "        self._cate_model = Categorical_NB()\n",
    "        self._cate_model.fit(X_train_cat, y_train)\n",
    "\n",
    "        self._num_model = Gaussian_NB()\n",
    "        self._num_model.fit(X_train_num, y_train)\n",
    "\n",
    "        self._classes = np.unique(y_train)\n",
    "        self._prior = {c:np.sum(y_train==c)/len(y_train) for c in self._classes}\n",
    "        \n",
    "    def _predict(self, X_test_num, X_test_cat):\n",
    "\n",
    "        cat_likelihood = self._cate_model.P_Xtest_giv_y(X_test_cat)\n",
    "        num_likelihood = self._num_model.P_Xtest_giv_y(X_test_num)\n",
    "        Postorior = {c: cat_likelihood[c] * num_likelihood[c] / self._prior[c] for c in self._classes}\n",
    "        return (Postorior[1] > Postorior[0]).astype(float)\n",
    "    \n",
    "    def predict(self, X_test):\n",
    "\n",
    "        X_test_num = X_test.select_dtypes(exclude=['object'])\n",
    "        X_test_cat = X_test.select_dtypes(include=['object'])\n",
    "\n",
    "        if type(X_test_num) != np.ndarray:\n",
    "            X_test_num = X_test_num.to_numpy()\n",
    "        if type(X_test_cat) != np.ndarray:\n",
    "            X_test_cat = X_test_cat.to_numpy()\n",
    "\n",
    "        return self._predict(X_test_num, X_test_cat)\n",
    "\n",
    "    def score(self, X_test, y_test):\n",
    "        pred = self.predict(X_test)\n",
    "        return accuracy_score(pred, y_test)"
   ]
  },
  {
   "cell_type": "code",
   "execution_count": 16,
   "metadata": {
    "colab": {
     "base_uri": "https://localhost:8080/",
     "height": 442
    },
    "id": "sUAz5Ix-4Y_8",
    "outputId": "600825f1-875a-4bb8-e34e-1b0d383ab316"
   },
   "outputs": [
    {
     "name": "stdout",
     "output_type": "stream",
     "text": [
      "<class 'pandas.core.frame.DataFrame'>\n",
      "RangeIndex: 9879 entries, 0 to 9878\n",
      "Data columns (total 7 columns):\n",
      " #   Column             Non-Null Count  Dtype \n",
      "---  ------             --------------  ----- \n",
      " 0   killsDiff          9879 non-null   int64 \n",
      " 1   minionsKilledDiff  9879 non-null   int64 \n",
      " 2   wardPlacedDiff     9879 non-null   int64 \n",
      " 3   firstBlood         9879 non-null   object\n",
      " 4   heralds            9879 non-null   object\n",
      " 5   dragons            9879 non-null   object\n",
      " 6   teamWins           9879 non-null   object\n",
      "dtypes: int64(3), object(4)\n",
      "memory usage: 540.4+ KB\n"
     ]
    },
    {
     "data": {
      "text/html": [
       "<div>\n",
       "<style scoped>\n",
       "    .dataframe tbody tr th:only-of-type {\n",
       "        vertical-align: middle;\n",
       "    }\n",
       "\n",
       "    .dataframe tbody tr th {\n",
       "        vertical-align: top;\n",
       "    }\n",
       "\n",
       "    .dataframe thead th {\n",
       "        text-align: right;\n",
       "    }\n",
       "</style>\n",
       "<table border=\"1\" class=\"dataframe\">\n",
       "  <thead>\n",
       "    <tr style=\"text-align: right;\">\n",
       "      <th></th>\n",
       "      <th>killsDiff</th>\n",
       "      <th>minionsKilledDiff</th>\n",
       "      <th>wardPlacedDiff</th>\n",
       "      <th>firstBlood</th>\n",
       "      <th>heralds</th>\n",
       "      <th>dragons</th>\n",
       "      <th>teamWins</th>\n",
       "    </tr>\n",
       "  </thead>\n",
       "  <tbody>\n",
       "    <tr>\n",
       "      <th>0</th>\n",
       "      <td>3</td>\n",
       "      <td>-2</td>\n",
       "      <td>13</td>\n",
       "      <td>blue</td>\n",
       "      <td>none</td>\n",
       "      <td>none</td>\n",
       "      <td>red</td>\n",
       "    </tr>\n",
       "    <tr>\n",
       "      <th>1</th>\n",
       "      <td>0</td>\n",
       "      <td>-66</td>\n",
       "      <td>0</td>\n",
       "      <td>red</td>\n",
       "      <td>red</td>\n",
       "      <td>red</td>\n",
       "      <td>red</td>\n",
       "    </tr>\n",
       "    <tr>\n",
       "      <th>2</th>\n",
       "      <td>-4</td>\n",
       "      <td>-17</td>\n",
       "      <td>0</td>\n",
       "      <td>red</td>\n",
       "      <td>none</td>\n",
       "      <td>blue</td>\n",
       "      <td>red</td>\n",
       "    </tr>\n",
       "    <tr>\n",
       "      <th>3</th>\n",
       "      <td>-1</td>\n",
       "      <td>-34</td>\n",
       "      <td>28</td>\n",
       "      <td>red</td>\n",
       "      <td>blue</td>\n",
       "      <td>none</td>\n",
       "      <td>red</td>\n",
       "    </tr>\n",
       "    <tr>\n",
       "      <th>4</th>\n",
       "      <td>0</td>\n",
       "      <td>-15</td>\n",
       "      <td>58</td>\n",
       "      <td>red</td>\n",
       "      <td>none</td>\n",
       "      <td>red</td>\n",
       "      <td>red</td>\n",
       "    </tr>\n",
       "  </tbody>\n",
       "</table>\n",
       "</div>"
      ],
      "text/plain": [
       "   killsDiff  minionsKilledDiff  wardPlacedDiff firstBlood heralds dragons  \\\n",
       "0          3                 -2              13       blue    none    none   \n",
       "1          0                -66               0        red     red     red   \n",
       "2         -4                -17               0        red    none    blue   \n",
       "3         -1                -34              28        red    blue    none   \n",
       "4          0                -15              58        red    none     red   \n",
       "\n",
       "  teamWins  \n",
       "0      red  \n",
       "1      red  \n",
       "2      red  \n",
       "3      red  \n",
       "4      red  "
      ]
     },
     "execution_count": 16,
     "metadata": {},
     "output_type": "execute_result"
    }
   ],
   "source": [
    "# Read data\n",
    "df = pd.read_csv(\"https://raw.githubusercontent.com/dinhvietcuong1996/Lab-MachineLearningCourse/master/Lab04/lienminh.csv\")\n",
    "df.info()\n",
    "df.head()"
   ]
  },
  {
   "cell_type": "code",
   "execution_count": 17,
   "metadata": {
    "colab": {
     "base_uri": "https://localhost:8080/",
     "height": 442
    },
    "id": "7TCMLs8s47bV",
    "outputId": "21a002fe-f933-4d40-c123-32a6735c9d52"
   },
   "outputs": [
    {
     "name": "stdout",
     "output_type": "stream",
     "text": [
      "<class 'pandas.core.frame.DataFrame'>\n",
      "Int64Index: 9879 entries, 0 to 9878\n",
      "Data columns (total 7 columns):\n",
      " #   Column             Non-Null Count  Dtype \n",
      "---  ------             --------------  ----- \n",
      " 0   killsDiff          9879 non-null   int64 \n",
      " 1   minionsKilledDiff  9879 non-null   int64 \n",
      " 2   wardPlacedDiff     9879 non-null   int64 \n",
      " 3   firstBlood         9879 non-null   object\n",
      " 4   heralds            9879 non-null   object\n",
      " 5   dragons            9879 non-null   object\n",
      " 6   teamWins           9879 non-null   object\n",
      "dtypes: int64(3), object(4)\n",
      "memory usage: 617.4+ KB\n"
     ]
    },
    {
     "data": {
      "text/html": [
       "<div>\n",
       "<style scoped>\n",
       "    .dataframe tbody tr th:only-of-type {\n",
       "        vertical-align: middle;\n",
       "    }\n",
       "\n",
       "    .dataframe tbody tr th {\n",
       "        vertical-align: top;\n",
       "    }\n",
       "\n",
       "    .dataframe thead th {\n",
       "        text-align: right;\n",
       "    }\n",
       "</style>\n",
       "<table border=\"1\" class=\"dataframe\">\n",
       "  <thead>\n",
       "    <tr style=\"text-align: right;\">\n",
       "      <th></th>\n",
       "      <th>killsDiff</th>\n",
       "      <th>minionsKilledDiff</th>\n",
       "      <th>wardPlacedDiff</th>\n",
       "      <th>firstBlood</th>\n",
       "      <th>heralds</th>\n",
       "      <th>dragons</th>\n",
       "      <th>teamWins</th>\n",
       "    </tr>\n",
       "  </thead>\n",
       "  <tbody>\n",
       "    <tr>\n",
       "      <th>0</th>\n",
       "      <td>3</td>\n",
       "      <td>-2</td>\n",
       "      <td>13</td>\n",
       "      <td>blue</td>\n",
       "      <td>none</td>\n",
       "      <td>none</td>\n",
       "      <td>red</td>\n",
       "    </tr>\n",
       "    <tr>\n",
       "      <th>1</th>\n",
       "      <td>0</td>\n",
       "      <td>-66</td>\n",
       "      <td>0</td>\n",
       "      <td>red</td>\n",
       "      <td>red</td>\n",
       "      <td>red</td>\n",
       "      <td>red</td>\n",
       "    </tr>\n",
       "    <tr>\n",
       "      <th>2</th>\n",
       "      <td>-4</td>\n",
       "      <td>-17</td>\n",
       "      <td>0</td>\n",
       "      <td>red</td>\n",
       "      <td>none</td>\n",
       "      <td>blue</td>\n",
       "      <td>red</td>\n",
       "    </tr>\n",
       "    <tr>\n",
       "      <th>3</th>\n",
       "      <td>-1</td>\n",
       "      <td>-34</td>\n",
       "      <td>28</td>\n",
       "      <td>red</td>\n",
       "      <td>blue</td>\n",
       "      <td>none</td>\n",
       "      <td>red</td>\n",
       "    </tr>\n",
       "    <tr>\n",
       "      <th>4</th>\n",
       "      <td>0</td>\n",
       "      <td>-15</td>\n",
       "      <td>58</td>\n",
       "      <td>red</td>\n",
       "      <td>none</td>\n",
       "      <td>red</td>\n",
       "      <td>red</td>\n",
       "    </tr>\n",
       "  </tbody>\n",
       "</table>\n",
       "</div>"
      ],
      "text/plain": [
       "   killsDiff  minionsKilledDiff  wardPlacedDiff firstBlood heralds dragons  \\\n",
       "0          3                 -2              13       blue    none    none   \n",
       "1          0                -66               0        red     red     red   \n",
       "2         -4                -17               0        red    none    blue   \n",
       "3         -1                -34              28        red    blue    none   \n",
       "4          0                -15              58        red    none     red   \n",
       "\n",
       "  teamWins  \n",
       "0      red  \n",
       "1      red  \n",
       "2      red  \n",
       "3      red  \n",
       "4      red  "
      ]
     },
     "execution_count": 17,
     "metadata": {},
     "output_type": "execute_result"
    }
   ],
   "source": [
    "df = df.dropna()\n",
    "df.info()\n",
    "df.head()"
   ]
  },
  {
   "cell_type": "code",
   "execution_count": 18,
   "metadata": {
    "colab": {
     "base_uri": "https://localhost:8080/",
     "height": 204
    },
    "id": "yBmNsBN-5BUR",
    "outputId": "ea3ce30a-747e-46de-d018-04b436b0c9ac"
   },
   "outputs": [
    {
     "data": {
      "text/html": [
       "<div>\n",
       "<style scoped>\n",
       "    .dataframe tbody tr th:only-of-type {\n",
       "        vertical-align: middle;\n",
       "    }\n",
       "\n",
       "    .dataframe tbody tr th {\n",
       "        vertical-align: top;\n",
       "    }\n",
       "\n",
       "    .dataframe thead th {\n",
       "        text-align: right;\n",
       "    }\n",
       "</style>\n",
       "<table border=\"1\" class=\"dataframe\">\n",
       "  <thead>\n",
       "    <tr style=\"text-align: right;\">\n",
       "      <th></th>\n",
       "      <th>killsDiff</th>\n",
       "      <th>minionsKilledDiff</th>\n",
       "      <th>wardPlacedDiff</th>\n",
       "      <th>firstBlood</th>\n",
       "      <th>heralds</th>\n",
       "      <th>dragons</th>\n",
       "      <th>teamWins</th>\n",
       "    </tr>\n",
       "  </thead>\n",
       "  <tbody>\n",
       "    <tr>\n",
       "      <th>0</th>\n",
       "      <td>3</td>\n",
       "      <td>-2</td>\n",
       "      <td>13</td>\n",
       "      <td>blue</td>\n",
       "      <td>none</td>\n",
       "      <td>none</td>\n",
       "      <td>1</td>\n",
       "    </tr>\n",
       "    <tr>\n",
       "      <th>1</th>\n",
       "      <td>0</td>\n",
       "      <td>-66</td>\n",
       "      <td>0</td>\n",
       "      <td>red</td>\n",
       "      <td>red</td>\n",
       "      <td>red</td>\n",
       "      <td>1</td>\n",
       "    </tr>\n",
       "    <tr>\n",
       "      <th>2</th>\n",
       "      <td>-4</td>\n",
       "      <td>-17</td>\n",
       "      <td>0</td>\n",
       "      <td>red</td>\n",
       "      <td>none</td>\n",
       "      <td>blue</td>\n",
       "      <td>1</td>\n",
       "    </tr>\n",
       "    <tr>\n",
       "      <th>3</th>\n",
       "      <td>-1</td>\n",
       "      <td>-34</td>\n",
       "      <td>28</td>\n",
       "      <td>red</td>\n",
       "      <td>blue</td>\n",
       "      <td>none</td>\n",
       "      <td>1</td>\n",
       "    </tr>\n",
       "    <tr>\n",
       "      <th>4</th>\n",
       "      <td>0</td>\n",
       "      <td>-15</td>\n",
       "      <td>58</td>\n",
       "      <td>red</td>\n",
       "      <td>none</td>\n",
       "      <td>red</td>\n",
       "      <td>1</td>\n",
       "    </tr>\n",
       "  </tbody>\n",
       "</table>\n",
       "</div>"
      ],
      "text/plain": [
       "   killsDiff  minionsKilledDiff  wardPlacedDiff firstBlood heralds dragons  \\\n",
       "0          3                 -2              13       blue    none    none   \n",
       "1          0                -66               0        red     red     red   \n",
       "2         -4                -17               0        red    none    blue   \n",
       "3         -1                -34              28        red    blue    none   \n",
       "4          0                -15              58        red    none     red   \n",
       "\n",
       "   teamWins  \n",
       "0         1  \n",
       "1         1  \n",
       "2         1  \n",
       "3         1  \n",
       "4         1  "
      ]
     },
     "execution_count": 18,
     "metadata": {},
     "output_type": "execute_result"
    }
   ],
   "source": [
    "df_enc = MultiColumnLabelEncoder(columns=['teamWins']).fit_transform(df)\n",
    "df_enc.head()"
   ]
  },
  {
   "cell_type": "code",
   "execution_count": 19,
   "metadata": {
    "id": "CLskhz4b5XHM"
   },
   "outputs": [],
   "source": [
    "X = df_enc.drop('teamWins',axis=1)\n",
    "y = df_enc.teamWins"
   ]
  },
  {
   "cell_type": "code",
   "execution_count": 20,
   "metadata": {
    "colab": {
     "base_uri": "https://localhost:8080/"
    },
    "id": "kVN9EG0h65wz",
    "outputId": "728045df-65f9-49fd-bde7-75761c04ab52"
   },
   "outputs": [
    {
     "name": "stdout",
     "output_type": "stream",
     "text": [
      "0.7116104868913857\n"
     ]
    }
   ],
   "source": [
    "# My mix model\n",
    "mix_model = Mix_Model()\n",
    "mix_model.fit(X, y)\n",
    "pred_mixmodel = mix_model.predict(X)\n",
    "print(mix_model.score(X, y))"
   ]
  }
 ],
 "metadata": {
  "colab": {
   "collapsed_sections": [],
   "name": "ML-Lab04.ipynb",
   "provenance": []
  },
  "kernelspec": {
   "display_name": "Python 3",
   "language": "python",
   "name": "python3"
  },
  "language_info": {
   "codemirror_mode": {
    "name": "ipython",
    "version": 3
   },
   "file_extension": ".py",
   "mimetype": "text/x-python",
   "name": "python",
   "nbconvert_exporter": "python",
   "pygments_lexer": "ipython3",
   "version": "3.8.3"
  }
 },
 "nbformat": 4,
 "nbformat_minor": 1
}
