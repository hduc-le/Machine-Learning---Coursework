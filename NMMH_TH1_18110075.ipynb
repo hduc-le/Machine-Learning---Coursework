{
 "metadata": {
  "language_info": {
   "codemirror_mode": {
    "name": "ipython",
    "version": 3
   },
   "file_extension": ".py",
   "mimetype": "text/x-python",
   "name": "python",
   "nbconvert_exporter": "python",
   "pygments_lexer": "ipython3",
   "version": "3.8.3"
  },
  "orig_nbformat": 2,
  "kernelspec": {
   "name": "python3",
   "display_name": "Python 3.8.3 64-bit ('base': conda)",
   "metadata": {
    "interpreter": {
     "hash": "7a608e6d0d861858c84ee5659f2dcf035d105f97b13363a7e921c23e0465a642"
    }
   }
  }
 },
 "nbformat": 4,
 "nbformat_minor": 2,
 "cells": [
  {
   "cell_type": "code",
   "execution_count": 1,
   "metadata": {},
   "outputs": [],
   "source": [
    "'''\n",
    "    Name: Le Hoang Duc\n",
    "    Student ID: 18110075\n",
    "    ML - Lab01\n",
    "'''\n",
    "import numpy as np \n",
    "import pandas as pd"
   ]
  },
  {
   "cell_type": "code",
   "execution_count": 2,
   "metadata": {},
   "outputs": [],
   "source": [
    "from sklearn import datasets\n",
    "diabetes_X, diabetes_y = datasets.load_diabetes(return_X_y=True)\n",
    "diabetes_X_train,diabetes_y_train=diabetes_X[:-2],diabetes_y[:-2].reshape(1,-1).T\n",
    "diabetes_X_test,diabetes_y_test=diabetes_X[-2:],diabetes_y[-2:].reshape(1,-1).T"
   ]
  },
  {
   "cell_type": "code",
   "execution_count": 3,
   "metadata": {},
   "outputs": [],
   "source": [
    "X_train = diabetes_X_train\n",
    "y_train = diabetes_y_train"
   ]
  },
  {
   "cell_type": "code",
   "execution_count": 4,
   "metadata": {},
   "outputs": [
    {
     "output_type": "stream",
     "name": "stdout",
     "text": [
      "(440, 10)\n(440, 1)\n"
     ]
    }
   ],
   "source": [
    "print(X_train.shape)\n",
    "print(y_train.shape)"
   ]
  },
  {
   "cell_type": "code",
   "execution_count": 5,
   "metadata": {},
   "outputs": [],
   "source": [
    "one = np.ones((X_train.shape[0], 1))\n",
    "Xbar = np.concatenate((one, X_train), axis = 1)"
   ]
  },
  {
   "cell_type": "code",
   "execution_count": 6,
   "metadata": {},
   "outputs": [
    {
     "output_type": "stream",
     "name": "stdout",
     "text": [
      "(440, 11)\n"
     ]
    }
   ],
   "source": [
    "print(Xbar.shape)"
   ]
  },
  {
   "source": [
    "print(Xbar)"
   ],
   "cell_type": "code",
   "metadata": {},
   "execution_count": 7,
   "outputs": [
    {
     "output_type": "stream",
     "name": "stdout",
     "text": [
      "[[ 1.          0.03807591  0.05068012 ... -0.00259226  0.01990842\n  -0.01764613]\n [ 1.         -0.00188202 -0.04464164 ... -0.03949338 -0.06832974\n  -0.09220405]\n [ 1.          0.08529891  0.05068012 ... -0.00259226  0.00286377\n  -0.02593034]\n ...\n [ 1.          0.04170844  0.05068012 ... -0.00259226  0.03119299\n   0.00720652]\n [ 1.         -0.00551455  0.05068012 ...  0.03430886 -0.01811827\n   0.04448548]\n [ 1.          0.04170844  0.05068012 ... -0.01107952 -0.04687948\n   0.01549073]]\n"
     ]
    }
   ]
  },
  {
   "cell_type": "code",
   "execution_count": 8,
   "metadata": {},
   "outputs": [],
   "source": [
    "A = np.dot(Xbar.T, Xbar)\n",
    "b = np.dot(Xbar.T, y_train)\n",
    "w = np.dot(np.linalg.pinv(A), b)"
   ]
  },
  {
   "cell_type": "code",
   "execution_count": 9,
   "metadata": {},
   "outputs": [
    {
     "output_type": "stream",
     "name": "stdout",
     "text": [
      "Coefficents: \n [[  -9.38654069]\n [-239.50541995]\n [ 519.71747928]\n [ 324.62241148]\n [-788.75647584]\n [ 474.10341796]\n [  98.46801188]\n [ 175.8004285 ]\n [ 749.38200399]\n [  67.88567794]]\nIntercept: \n [152.10620412]\n"
     ]
    }
   ],
   "source": [
    "print('Coefficents: \\n', w[1:])\n",
    "print('Intercept: \\n', w[0])"
   ]
  },
  {
   "cell_type": "code",
   "execution_count": 10,
   "metadata": {},
   "outputs": [
    {
     "output_type": "stream",
     "name": "stdout",
     "text": [
      "(2, 10)\n(2, 1)\n"
     ]
    }
   ],
   "source": [
    "X_test = diabetes_X_test\n",
    "y_test = diabetes_y_test\n",
    "print(X_test.shape)\n",
    "print(y_test.shape)"
   ]
  },
  {
   "cell_type": "code",
   "execution_count": 11,
   "metadata": {},
   "outputs": [],
   "source": [
    "one = np.ones((X_test.shape[0], 1))\n",
    "Xbar_test = np.concatenate((one, X_test), axis = 1)"
   ]
  },
  {
   "cell_type": "code",
   "execution_count": 12,
   "metadata": {},
   "outputs": [
    {
     "output_type": "stream",
     "name": "stdout",
     "text": [
      "[[211.74929866]\n [ 53.19292183]]\n[[220.]\n [ 57.]]\n"
     ]
    }
   ],
   "source": [
    "pred = Xbar_test.dot(w)\n",
    "print(pred)\n",
    "print(y_test)"
   ]
  },
  {
   "cell_type": "code",
   "execution_count": 13,
   "metadata": {},
   "outputs": [
    {
     "output_type": "stream",
     "name": "stdout",
     "text": [
      "Coefficients: \n [[  -9.38654069 -239.50541995  519.71747928  324.62241148 -788.75647584\n   474.10341796   98.46801188  175.8004285   749.38200399   67.88567794]]\nIntercept: \n [152.10620412]\nMean squared error: 41.283958422945254\n"
     ]
    }
   ],
   "source": [
    "from sklearn.linear_model import LinearRegression\n",
    "from sklearn.metrics import mean_squared_error\n",
    "\n",
    "model = LinearRegression()\n",
    "model.fit(X_train, y_train)\n",
    "models_pred = model.predict(X_test)\n",
    "\n",
    "print('Coefficients: \\n', model.coef_)\n",
    "print('Intercept: \\n', model.intercept_)\n",
    "\n",
    "print(f'Mean squared error: {mean_squared_error(models_pred, y_test)}')\n"
   ]
  }
 ]
}