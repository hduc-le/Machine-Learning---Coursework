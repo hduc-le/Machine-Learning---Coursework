{
  "nbformat": 4,
  "nbformat_minor": 0,
  "metadata": {
    "colab": {
      "name": "ML-Lab09.ipynb",
      "provenance": [],
      "collapsed_sections": []
    },
    "kernelspec": {
      "name": "python3",
      "display_name": "Python 3"
    },
    "language_info": {
      "name": "python"
    },
    "accelerator": "GPU"
  },
  "cells": [
    {
      "cell_type": "code",
      "metadata": {
        "id": "q71eapNAVW2Y"
      },
      "source": [
        "from imutils import paths\n",
        "from sklearn.model_selection import train_test_split\n",
        "from keras.layers import Input, Reshape, Flatten, Dense, MaxPooling2D, Dropout, Conv2D\n",
        "from keras.models import Model\n",
        "import keras\n",
        "import tensorflow as tf\n",
        "import numpy as np\n",
        "import random\n",
        "import os\n",
        "import matplotlib.pyplot as plt\n",
        "from keras.optimizers import Adam"
      ],
      "execution_count": 1,
      "outputs": []
    },
    {
      "cell_type": "code",
      "metadata": {
        "colab": {
          "base_uri": "https://localhost:8080/",
          "height": 367
        },
        "id": "IS--A5Kv1FNv",
        "outputId": "5de3ec63-36b7-4292-ab8d-e81c7ade91e7"
      },
      "source": [
        "\n",
        "# Tải dataset MNIST từ tensorflow\n",
        "\n",
        "(X_train, y_train), (X_test, y_test) = tf.keras.datasets.mnist.load_data()\n",
        "## resacle ảnh thành ảnh thực trong đoạn [0,1]\n",
        "X_train, X_test = X_train/255.0, X_test/255.0\n",
        "\n",
        "print(X_train.shape, y_train.shape, X_test.shape, y_test.shape)\n",
        "print(\"Có 60000 ảnh dùng để train và valid, 10000 ảnh dùng để test\")\n",
        "print(\"Mỗi ảnh có một kênh màu, kích thước 28x28\")\n",
        "print()\n",
        "\n",
        "## in thử ảnh một ảnh\n",
        "print(\"Ảnh đầu tiên của tập train\")\n",
        "print(\"Label đầu tiên của tập train: \", y_train[0])\n",
        "plt.imshow(X_train[0], cmap='gray')\n",
        "plt.show()\n",
        "\n",
        "#Tách một phần tập train thành tập valid\n",
        "X_train, X_valid, y_train, y_valid = train_test_split(X_train, y_train, test_size=0.1) # Tách theo tỉ lệ validation/train=1/9"
      ],
      "execution_count": 2,
      "outputs": [
        {
          "output_type": "stream",
          "text": [
            "(60000, 28, 28) (60000,) (10000, 28, 28) (10000,)\n",
            "Có 60000 ảnh dùng để train và valid, 10000 ảnh dùng để test\n",
            "Mỗi ảnh có một kênh màu, kích thước 28x28\n",
            "\n",
            "Ảnh đầu tiên của tập train\n",
            "Label đầu tiên của tập train:  5\n"
          ],
          "name": "stdout"
        },
        {
          "output_type": "display_data",
          "data": {
            "image/png": "[encoded data removed]",
            "text/plain": [
              "<Figure size 432x288 with 1 Axes>"
            ]
          },
          "metadata": {
            "tags": [],
            "needs_background": "light"
          }
        }
      ]
    },
    {
      "cell_type": "markdown",
      "metadata": {
        "id": "AGuImXm3R7Q_"
      },
      "source": [
        "**1. Tạo và huấn luyện mạng no-ron theo cấu trúc đã cho trên tập MNIST**"
      ]
    },
    {
      "cell_type": "code",
      "metadata": {
        "id": "3dhA20F9CSem"
      },
      "source": [
        "def nnet(input_size = (28,28)):\n",
        "    \n",
        "    inputs = Input(shape=(input_size))\n",
        "    reshape_inputs = Reshape((28,28,1))(inputs)\n",
        "    flatten = Flatten()(inputs)\n",
        "\n",
        "    dense1 = Dense(units=200, activation='relu')(flatten)\n",
        "    dense2 = Dense(units=100, activation='relu')(dense1)\n",
        "    dense3 = Dense(units=50, activation='relu')(dense2)\n",
        "    dense4 = Dense(units=20, activation='relu')(dense3)\n",
        "    softmax = Dense(units=10, activation='softmax')(dense4)\n",
        "\n",
        "    model = Model(inputs=inputs, outputs=softmax)\n",
        "    return model"
      ],
      "execution_count": 3,
      "outputs": []
    },
    {
      "cell_type": "code",
      "metadata": {
        "id": "FJJWqobdEs9e"
      },
      "source": [
        "# Define model\n",
        "model = nnet()\n",
        "model.compile(optimizer='adam',\n",
        "             loss=tf.keras.losses.sparse_categorical_crossentropy,\n",
        "             metrics=[\"accuracy\"])"
      ],
      "execution_count": 4,
      "outputs": []
    },
    {
      "cell_type": "code",
      "metadata": {
        "colab": {
          "base_uri": "https://localhost:8080/"
        },
        "id": "9waV6daWL9W3",
        "outputId": "7acb86be-640a-41a3-ca53-a2ce67d8853e"
      },
      "source": [
        "# Model architecture\n",
        "model.summary()"
      ],
      "execution_count": 5,
      "outputs": [
        {
          "output_type": "stream",
          "text": [
            "Model: \"model\"\n",
            "_________________________________________________________________\n",
            "Layer (type)                 Output Shape              Param #   \n",
            "=================================================================\n",
            "input_1 (InputLayer)         [(None, 28, 28)]          0         \n",
            "_________________________________________________________________\n",
            "flatten (Flatten)            (None, 784)               0         \n",
            "_________________________________________________________________\n",
            "dense (Dense)                (None, 200)               157000    \n",
            "_________________________________________________________________\n",
            "dense_1 (Dense)              (None, 100)               20100     \n",
            "_________________________________________________________________\n",
            "dense_2 (Dense)              (None, 50)                5050      \n",
            "_________________________________________________________________\n",
            "dense_3 (Dense)              (None, 20)                1020      \n",
            "_________________________________________________________________\n",
            "dense_4 (Dense)              (None, 10)                210       \n",
            "=================================================================\n",
            "Total params: 183,380\n",
            "Trainable params: 183,380\n",
            "Non-trainable params: 0\n",
            "_________________________________________________________________\n"
          ],
          "name": "stdout"
        }
      ]
    },
    {
      "cell_type": "markdown",
      "metadata": {
        "id": "OmDniznxT548"
      },
      "source": [
        "**2. Nêu cách tính số parameters sau mỗi layer**"
      ]
    },
    {
      "cell_type": "markdown",
      "metadata": {
        "id": "2Q0N2cz_SJPZ"
      },
      "source": [
        "Cách tính Param #: tổng số connections (paremeters) giữa các node ở lớp layer trước và hiện tại + số biases\n",
        "\n",
        "        dense = 784 (nodes) x 200 (nodes) + 200 (bias) = 157000\n",
        "\n",
        "        dense_1 = 200 (nodes) x 100 + 100 (bias) = 20100\n",
        "\n",
        "        dense_2 = 100 (nodes) x 50 + 50 (bias) = 5050\n",
        "\n",
        "        dense_3 = 50 (nodes) x 20 + 20 (bias) = 1020\n",
        "\n",
        "        dense_4 = 20 (nodes) x 10 + 10 (bias) = 210\n"
      ]
    },
    {
      "cell_type": "markdown",
      "metadata": {
        "id": "67L3osbiULR5"
      },
      "source": [
        "**3. Cấu trúc ở câu 1 có thể được áp dụng cho bài toán regression được không, nếu có thì phải thay đổi như thế nào?**\n",
        "\n",
        "Trả lời: Có, cần thay đổi lớp Fully-connected layer cuối (dense_4) với số units=1 và activation='linear'."
      ]
    },
    {
      "cell_type": "code",
      "metadata": {
        "colab": {
          "base_uri": "https://localhost:8080/"
        },
        "id": "9APjL51tL_ZJ",
        "outputId": "b808393b-18e4-460c-c70b-5fdb1bc63362"
      },
      "source": [
        "# Training model\n",
        "num_epochs = 20\n",
        "batchsize = 100\n",
        "\n",
        "history = model.fit(X_train,y_train,\n",
        "                  epochs=num_epochs,\n",
        "                  batch_size=batchsize,\n",
        "                  validation_data=(X_valid,y_valid))"
      ],
      "execution_count": 6,
      "outputs": [
        {
          "output_type": "stream",
          "text": [
            "Epoch 1/20\n",
            "540/540 [==============================] - 13s 3ms/step - loss: 0.6228 - accuracy: 0.8133 - val_loss: 0.1427 - val_accuracy: 0.9580\n",
            "Epoch 2/20\n",
            "540/540 [==============================] - 1s 2ms/step - loss: 0.1218 - accuracy: 0.9628 - val_loss: 0.1176 - val_accuracy: 0.9642\n",
            "Epoch 3/20\n",
            "540/540 [==============================] - 1s 2ms/step - loss: 0.0814 - accuracy: 0.9759 - val_loss: 0.0866 - val_accuracy: 0.9735\n",
            "Epoch 4/20\n",
            "540/540 [==============================] - 1s 2ms/step - loss: 0.0578 - accuracy: 0.9815 - val_loss: 0.0901 - val_accuracy: 0.9722\n",
            "Epoch 5/20\n",
            "540/540 [==============================] - 1s 2ms/step - loss: 0.0429 - accuracy: 0.9871 - val_loss: 0.0744 - val_accuracy: 0.9772\n",
            "Epoch 6/20\n",
            "540/540 [==============================] - 1s 2ms/step - loss: 0.0345 - accuracy: 0.9892 - val_loss: 0.0796 - val_accuracy: 0.9767\n",
            "Epoch 7/20\n",
            "540/540 [==============================] - 1s 2ms/step - loss: 0.0258 - accuracy: 0.9919 - val_loss: 0.1028 - val_accuracy: 0.9708\n",
            "Epoch 8/20\n",
            "540/540 [==============================] - 1s 2ms/step - loss: 0.0254 - accuracy: 0.9922 - val_loss: 0.0833 - val_accuracy: 0.9790\n",
            "Epoch 9/20\n",
            "540/540 [==============================] - 1s 2ms/step - loss: 0.0220 - accuracy: 0.9927 - val_loss: 0.0937 - val_accuracy: 0.9782\n",
            "Epoch 10/20\n",
            "540/540 [==============================] - 1s 2ms/step - loss: 0.0175 - accuracy: 0.9944 - val_loss: 0.1082 - val_accuracy: 0.9753\n",
            "Epoch 11/20\n",
            "540/540 [==============================] - 1s 2ms/step - loss: 0.0178 - accuracy: 0.9940 - val_loss: 0.0967 - val_accuracy: 0.9778\n",
            "Epoch 12/20\n",
            "540/540 [==============================] - 1s 2ms/step - loss: 0.0177 - accuracy: 0.9939 - val_loss: 0.1006 - val_accuracy: 0.9767\n",
            "Epoch 13/20\n",
            "540/540 [==============================] - 1s 2ms/step - loss: 0.0143 - accuracy: 0.9955 - val_loss: 0.0878 - val_accuracy: 0.9775\n",
            "Epoch 14/20\n",
            "540/540 [==============================] - 1s 2ms/step - loss: 0.0129 - accuracy: 0.9956 - val_loss: 0.1008 - val_accuracy: 0.9772\n",
            "Epoch 15/20\n",
            "540/540 [==============================] - 1s 2ms/step - loss: 0.0166 - accuracy: 0.9943 - val_loss: 0.1028 - val_accuracy: 0.9783\n",
            "Epoch 16/20\n",
            "540/540 [==============================] - 1s 2ms/step - loss: 0.0088 - accuracy: 0.9971 - val_loss: 0.0881 - val_accuracy: 0.9798\n",
            "Epoch 17/20\n",
            "540/540 [==============================] - 1s 2ms/step - loss: 0.0112 - accuracy: 0.9961 - val_loss: 0.0951 - val_accuracy: 0.9800\n",
            "Epoch 18/20\n",
            "540/540 [==============================] - 1s 2ms/step - loss: 0.0073 - accuracy: 0.9974 - val_loss: 0.1071 - val_accuracy: 0.9775\n",
            "Epoch 19/20\n",
            "540/540 [==============================] - 1s 2ms/step - loss: 0.0113 - accuracy: 0.9965 - val_loss: 0.1316 - val_accuracy: 0.9728\n",
            "Epoch 20/20\n",
            "540/540 [==============================] - 1s 2ms/step - loss: 0.0088 - accuracy: 0.9968 - val_loss: 0.1039 - val_accuracy: 0.9792\n"
          ],
          "name": "stdout"
        }
      ]
    },
    {
      "cell_type": "code",
      "metadata": {
        "colab": {
          "base_uri": "https://localhost:8080/",
          "height": 369
        },
        "id": "sqHsUMigPPYN",
        "outputId": "fb13264d-efdc-47e1-88d7-5e462338fcb5"
      },
      "source": [
        "# Visualization\n",
        "acc = history.history['accuracy']\n",
        "val_acc = history.history['val_accuracy']\n",
        "\n",
        "loss = history.history['loss']\n",
        "val_loss = history.history['val_loss']\n",
        "\n",
        "epochs_range = range(num_epochs)\n",
        "\n",
        "plt.figure(figsize=(14, 5))\n",
        "plt.subplot(1, 2, 1)\n",
        "plt.plot(epochs_range, acc, label='Training Accuracy')\n",
        "plt.plot(epochs_range, val_acc, label='Validation Accuracy')\n",
        "plt.legend(loc='lower right')\n",
        "plt.title('Training and Validation Accuracy')\n",
        "\n",
        "plt.subplot(1, 2, 2)\n",
        "plt.plot(epochs_range, loss, label='Training Loss')\n",
        "plt.plot(epochs_range, val_loss, label='Validation Loss')\n",
        "plt.legend(loc='upper right')\n",
        "plt.title('Training and Validation Loss')\n",
        "plt.tight_layout()\n",
        "plt.show()"
      ],
      "execution_count": 7,
      "outputs": [
        {
          "output_type": "display_data",
          "data": {
            "image/png": "[encoded data removed]",
            "text/plain": [
              "<Figure size 1008x360 with 2 Axes>"
            ]
          },
          "metadata": {
            "tags": [],
            "needs_background": "light"
          }
        }
      ]
    },
    {
      "cell_type": "code",
      "metadata": {
        "colab": {
          "base_uri": "https://localhost:8080/"
        },
        "id": "eWTCgyrwP5QT",
        "outputId": "79bf5806-3f6e-4d98-ab0b-919b7486c7cf"
      },
      "source": [
        "# Prediction \n",
        "test_loss, test_acc = model.evaluate(X_test, y_test)\n",
        "print(\"Loss trên tập test: \", test_loss,\" Accuracy trên tập test: \", test_acc)"
      ],
      "execution_count": 8,
      "outputs": [
        {
          "output_type": "stream",
          "text": [
            "313/313 [==============================] - 1s 2ms/step - loss: 0.1164 - accuracy: 0.9770\n",
            "Loss trên tập test:  0.11640291661024094  Accuracy trên tập test:  0.9769999980926514\n"
          ],
          "name": "stdout"
        }
      ]
    },
    {
      "cell_type": "markdown",
      "metadata": {
        "id": "Df09YL_jVVnS"
      },
      "source": [
        "**Câu 4: Thiết kế một mạng Convolution 2D cho trước**\n"
      ]
    },
    {
      "cell_type": "code",
      "metadata": {
        "id": "QUc9PstaVdBT"
      },
      "source": [
        "def conv2D(input_size=(28,28)):\n",
        "    inputs = Input(shape=input_size)\n",
        "\n",
        "    reshape_input = Reshape((28,28,1))(inputs)\n",
        "\n",
        "    conv1 = Conv2D(20, 5, activation = 'relu', padding='same')(reshape_input)\n",
        "\n",
        "    pool1 = MaxPooling2D(pool_size=(2, 2))(conv1)\n",
        "\n",
        "    conv2 = Conv2D(20, 5, activation = 'relu')(pool1)\n",
        "\n",
        "    pool2 = MaxPooling2D(pool_size=(2, 2))(conv2)\n",
        "\n",
        "    flatten = Flatten()(pool2)\n",
        "\n",
        "    dense1 = Dense(units=40, activation='relu')(flatten)\n",
        "\n",
        "    dense2 = Dense(units=20, activation='relu')(dense1)\n",
        "\n",
        "    softmax = Dense(units=10, activation='softmax')(dense2)\n",
        "\n",
        "    model = Model(inputs=inputs, outputs=softmax)\n",
        "    \n",
        "    return model"
      ],
      "execution_count": 9,
      "outputs": []
    },
    {
      "cell_type": "code",
      "metadata": {
        "colab": {
          "base_uri": "https://localhost:8080/"
        },
        "id": "s2nUhDo-cBqy",
        "outputId": "7c75654f-b235-45ec-b568-0f292f4d80ed"
      },
      "source": [
        "# Model\n",
        "model = conv2D()\n",
        "\n",
        "# Model architecture\n",
        "model.summary()"
      ],
      "execution_count": 11,
      "outputs": [
        {
          "output_type": "stream",
          "text": [
            "Model: \"model_2\"\n",
            "_________________________________________________________________\n",
            "Layer (type)                 Output Shape              Param #   \n",
            "=================================================================\n",
            "input_3 (InputLayer)         [(None, 28, 28)]          0         \n",
            "_________________________________________________________________\n",
            "reshape_2 (Reshape)          (None, 28, 28, 1)         0         \n",
            "_________________________________________________________________\n",
            "conv2d_2 (Conv2D)            (None, 28, 28, 20)        520       \n",
            "_________________________________________________________________\n",
            "max_pooling2d_2 (MaxPooling2 (None, 14, 14, 20)        0         \n",
            "_________________________________________________________________\n",
            "conv2d_3 (Conv2D)            (None, 10, 10, 20)        10020     \n",
            "_________________________________________________________________\n",
            "max_pooling2d_3 (MaxPooling2 (None, 5, 5, 20)          0         \n",
            "_________________________________________________________________\n",
            "flatten_2 (Flatten)          (None, 500)               0         \n",
            "_________________________________________________________________\n",
            "dense_8 (Dense)              (None, 40)                20040     \n",
            "_________________________________________________________________\n",
            "dense_9 (Dense)              (None, 20)                820       \n",
            "_________________________________________________________________\n",
            "dense_10 (Dense)             (None, 10)                210       \n",
            "=================================================================\n",
            "Total params: 31,610\n",
            "Trainable params: 31,610\n",
            "Non-trainable params: 0\n",
            "_________________________________________________________________\n"
          ],
          "name": "stdout"
        }
      ]
    }
  ]
}